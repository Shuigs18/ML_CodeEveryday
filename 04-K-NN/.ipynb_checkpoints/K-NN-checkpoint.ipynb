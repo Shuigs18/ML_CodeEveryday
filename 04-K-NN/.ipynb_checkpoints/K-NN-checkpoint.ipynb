{
 "cells": [
  {
   "cell_type": "code",
   "execution_count": 1,
   "metadata": {},
   "outputs": [],
   "source": [
    "import numpy as np\n",
    "import pandas as pd\n",
    "import matplotlib.pyplot as plt\n",
    "%matplotlib inline\n",
    "\n",
    "from sklearn.datasets import load_iris"
   ]
  },
  {
   "cell_type": "code",
   "execution_count": 2,
   "metadata": {},
   "outputs": [
    {
     "data": {
      "text/html": [
       "<div>\n",
       "<style scoped>\n",
       "    .dataframe tbody tr th:only-of-type {\n",
       "        vertical-align: middle;\n",
       "    }\n",
       "\n",
       "    .dataframe tbody tr th {\n",
       "        vertical-align: top;\n",
       "    }\n",
       "\n",
       "    .dataframe thead th {\n",
       "        text-align: right;\n",
       "    }\n",
       "</style>\n",
       "<table border=\"1\" class=\"dataframe\">\n",
       "  <thead>\n",
       "    <tr style=\"text-align: right;\">\n",
       "      <th></th>\n",
       "      <th>sepal length (cm)</th>\n",
       "      <th>sepal width (cm)</th>\n",
       "      <th>petal length (cm)</th>\n",
       "      <th>petal width (cm)</th>\n",
       "      <th>label</th>\n",
       "    </tr>\n",
       "  </thead>\n",
       "  <tbody>\n",
       "    <tr>\n",
       "      <th>0</th>\n",
       "      <td>5.1</td>\n",
       "      <td>3.5</td>\n",
       "      <td>1.4</td>\n",
       "      <td>0.2</td>\n",
       "      <td>0</td>\n",
       "    </tr>\n",
       "    <tr>\n",
       "      <th>1</th>\n",
       "      <td>4.9</td>\n",
       "      <td>3.0</td>\n",
       "      <td>1.4</td>\n",
       "      <td>0.2</td>\n",
       "      <td>0</td>\n",
       "    </tr>\n",
       "    <tr>\n",
       "      <th>2</th>\n",
       "      <td>4.7</td>\n",
       "      <td>3.2</td>\n",
       "      <td>1.3</td>\n",
       "      <td>0.2</td>\n",
       "      <td>0</td>\n",
       "    </tr>\n",
       "    <tr>\n",
       "      <th>3</th>\n",
       "      <td>4.6</td>\n",
       "      <td>3.1</td>\n",
       "      <td>1.5</td>\n",
       "      <td>0.2</td>\n",
       "      <td>0</td>\n",
       "    </tr>\n",
       "    <tr>\n",
       "      <th>4</th>\n",
       "      <td>5.0</td>\n",
       "      <td>3.6</td>\n",
       "      <td>1.4</td>\n",
       "      <td>0.2</td>\n",
       "      <td>0</td>\n",
       "    </tr>\n",
       "    <tr>\n",
       "      <th>5</th>\n",
       "      <td>5.4</td>\n",
       "      <td>3.9</td>\n",
       "      <td>1.7</td>\n",
       "      <td>0.4</td>\n",
       "      <td>0</td>\n",
       "    </tr>\n",
       "    <tr>\n",
       "      <th>6</th>\n",
       "      <td>4.6</td>\n",
       "      <td>3.4</td>\n",
       "      <td>1.4</td>\n",
       "      <td>0.3</td>\n",
       "      <td>0</td>\n",
       "    </tr>\n",
       "    <tr>\n",
       "      <th>7</th>\n",
       "      <td>5.0</td>\n",
       "      <td>3.4</td>\n",
       "      <td>1.5</td>\n",
       "      <td>0.2</td>\n",
       "      <td>0</td>\n",
       "    </tr>\n",
       "    <tr>\n",
       "      <th>8</th>\n",
       "      <td>4.4</td>\n",
       "      <td>2.9</td>\n",
       "      <td>1.4</td>\n",
       "      <td>0.2</td>\n",
       "      <td>0</td>\n",
       "    </tr>\n",
       "    <tr>\n",
       "      <th>9</th>\n",
       "      <td>4.9</td>\n",
       "      <td>3.1</td>\n",
       "      <td>1.5</td>\n",
       "      <td>0.1</td>\n",
       "      <td>0</td>\n",
       "    </tr>\n",
       "    <tr>\n",
       "      <th>10</th>\n",
       "      <td>5.4</td>\n",
       "      <td>3.7</td>\n",
       "      <td>1.5</td>\n",
       "      <td>0.2</td>\n",
       "      <td>0</td>\n",
       "    </tr>\n",
       "    <tr>\n",
       "      <th>11</th>\n",
       "      <td>4.8</td>\n",
       "      <td>3.4</td>\n",
       "      <td>1.6</td>\n",
       "      <td>0.2</td>\n",
       "      <td>0</td>\n",
       "    </tr>\n",
       "    <tr>\n",
       "      <th>12</th>\n",
       "      <td>4.8</td>\n",
       "      <td>3.0</td>\n",
       "      <td>1.4</td>\n",
       "      <td>0.1</td>\n",
       "      <td>0</td>\n",
       "    </tr>\n",
       "    <tr>\n",
       "      <th>13</th>\n",
       "      <td>4.3</td>\n",
       "      <td>3.0</td>\n",
       "      <td>1.1</td>\n",
       "      <td>0.1</td>\n",
       "      <td>0</td>\n",
       "    </tr>\n",
       "    <tr>\n",
       "      <th>14</th>\n",
       "      <td>5.8</td>\n",
       "      <td>4.0</td>\n",
       "      <td>1.2</td>\n",
       "      <td>0.2</td>\n",
       "      <td>0</td>\n",
       "    </tr>\n",
       "    <tr>\n",
       "      <th>15</th>\n",
       "      <td>5.7</td>\n",
       "      <td>4.4</td>\n",
       "      <td>1.5</td>\n",
       "      <td>0.4</td>\n",
       "      <td>0</td>\n",
       "    </tr>\n",
       "    <tr>\n",
       "      <th>16</th>\n",
       "      <td>5.4</td>\n",
       "      <td>3.9</td>\n",
       "      <td>1.3</td>\n",
       "      <td>0.4</td>\n",
       "      <td>0</td>\n",
       "    </tr>\n",
       "    <tr>\n",
       "      <th>17</th>\n",
       "      <td>5.1</td>\n",
       "      <td>3.5</td>\n",
       "      <td>1.4</td>\n",
       "      <td>0.3</td>\n",
       "      <td>0</td>\n",
       "    </tr>\n",
       "    <tr>\n",
       "      <th>18</th>\n",
       "      <td>5.7</td>\n",
       "      <td>3.8</td>\n",
       "      <td>1.7</td>\n",
       "      <td>0.3</td>\n",
       "      <td>0</td>\n",
       "    </tr>\n",
       "    <tr>\n",
       "      <th>19</th>\n",
       "      <td>5.1</td>\n",
       "      <td>3.8</td>\n",
       "      <td>1.5</td>\n",
       "      <td>0.3</td>\n",
       "      <td>0</td>\n",
       "    </tr>\n",
       "  </tbody>\n",
       "</table>\n",
       "</div>"
      ],
      "text/plain": [
       "    sepal length (cm)  sepal width (cm)  petal length (cm)  petal width (cm)  \\\n",
       "0                 5.1               3.5                1.4               0.2   \n",
       "1                 4.9               3.0                1.4               0.2   \n",
       "2                 4.7               3.2                1.3               0.2   \n",
       "3                 4.6               3.1                1.5               0.2   \n",
       "4                 5.0               3.6                1.4               0.2   \n",
       "5                 5.4               3.9                1.7               0.4   \n",
       "6                 4.6               3.4                1.4               0.3   \n",
       "7                 5.0               3.4                1.5               0.2   \n",
       "8                 4.4               2.9                1.4               0.2   \n",
       "9                 4.9               3.1                1.5               0.1   \n",
       "10                5.4               3.7                1.5               0.2   \n",
       "11                4.8               3.4                1.6               0.2   \n",
       "12                4.8               3.0                1.4               0.1   \n",
       "13                4.3               3.0                1.1               0.1   \n",
       "14                5.8               4.0                1.2               0.2   \n",
       "15                5.7               4.4                1.5               0.4   \n",
       "16                5.4               3.9                1.3               0.4   \n",
       "17                5.1               3.5                1.4               0.3   \n",
       "18                5.7               3.8                1.7               0.3   \n",
       "19                5.1               3.8                1.5               0.3   \n",
       "\n",
       "    label  \n",
       "0       0  \n",
       "1       0  \n",
       "2       0  \n",
       "3       0  \n",
       "4       0  \n",
       "5       0  \n",
       "6       0  \n",
       "7       0  \n",
       "8       0  \n",
       "9       0  \n",
       "10      0  \n",
       "11      0  \n",
       "12      0  \n",
       "13      0  \n",
       "14      0  \n",
       "15      0  \n",
       "16      0  \n",
       "17      0  \n",
       "18      0  \n",
       "19      0  "
      ]
     },
     "execution_count": 2,
     "metadata": {},
     "output_type": "execute_result"
    }
   ],
   "source": [
    "## load data\n",
    "iris = load_iris()  # np.array 格式\n",
    "df = pd.DataFrame(iris.data, columns = iris.feature_names)\n",
    "df['label'] = iris.target # 添加label列\n",
    "df[:20] # 查看一下实际数据"
   ]
  },
  {
   "cell_type": "code",
   "execution_count": 3,
   "metadata": {},
   "outputs": [
    {
     "data": {
      "text/plain": [
       "<matplotlib.legend.Legend at 0x7fa64cb66390>"
      ]
     },
     "execution_count": 3,
     "metadata": {},
     "output_type": "execute_result"
    },
    {
     "data": {
      "image/png": "[encoded data removed]",
      "text/plain": [
       "<Figure size 432x288 with 1 Axes>"
      ]
     },
     "metadata": {
      "needs_background": "light"
     },
     "output_type": "display_data"
    }
   ],
   "source": [
    "plt.scatter(df[:50]['sepal length (cm)'], df[:50]['sepal width (cm)'], label='0')\n",
    "plt.scatter(df[50:100]['sepal length (cm)'], df[50:100]['sepal width (cm)'], label='1')\n",
    "plt.xlabel('sepal length')\n",
    "plt.ylabel('width length')\n",
    "plt.legend()"
   ]
  },
  {
   "cell_type": "code",
   "execution_count": 4,
   "metadata": {},
   "outputs": [],
   "source": [
    "data = np.array(df.iloc[:,:]) # 数据由Datafrom转化为array\n",
    "X, Y = data[:, :-1], data[:, -1]\n",
    "\n",
    "def _shuffle(X, Y):\n",
    "    randomize = np.arange(len(X))\n",
    "    np.random.shuffle(randomize)\n",
    "    return X[randomize], Y[randomize]\n",
    "X, Y = _shuffle(X,Y)\n",
    "\n",
    "def _train_test_split(X, Y, split_ratio = 0.1):\n",
    "    train_size = int(len(X) * (1 - split_ratio))\n",
    "    return X[:train_size], Y[:train_size], X[train_size:], Y[train_size:]\n",
    "\n",
    "X_train, Y_train, X_test, Y_test = _train_test_split(X, Y, split_ratio = 0.1)\n"
   ]
  },
  {
   "cell_type": "code",
   "execution_count": 5,
   "metadata": {},
   "outputs": [],
   "source": [
    "## 数据标准化\n",
    "def _normalize(X, train_set = True, specified_columns = None, X_mean = None, X_std = None):\n",
    "    if specified_columns == None:\n",
    "        specified_columns = np.arange(len(X[0]))\n",
    "    if train_set:\n",
    "        X_mean = np.mean(X[:, specified_columns], axis = 0)\n",
    "        X_std = np.std(X[:, specified_columns], axis = 0)\n",
    "    X[:, specified_columns] = (X[:,specified_columns] - X_mean) / (X_std + 1e-8)\n",
    "    return X, X_mean, X_std\n",
    "\n",
    "X_train, X_mean, X_std = _normalize(X_train, train_set=True)\n",
    "X_test, _, _ = _normalize(X_test, train_set = None, X_mean = X_mean, X_std = X_std)\n"
   ]
  },
  {
   "cell_type": "markdown",
   "metadata": {},
   "source": [
    "## 线性遍历最近的K个点"
   ]
  },
  {
   "cell_type": "code",
   "execution_count": 6,
   "metadata": {},
   "outputs": [],
   "source": [
    "class KNN_LinearSearch:\n",
    "    def __init__(self, X_train, Y_train, k = 3, p=2):\n",
    "        \"\"\"\n",
    "        k: 临近点的个数\n",
    "        p: 距离度量\n",
    "        \"\"\"\n",
    "        self.k = k\n",
    "        self.p = p\n",
    "        self.X_train = X_train\n",
    "        self.Y_train = Y_train\n",
    "        \n",
    "    def predict(self, X_test):\n",
    "        \"\"\"\n",
    "        X_test，该函数找出最近的k个点，并按照多数表决规则进行预测\n",
    "        \"\"\"\n",
    "        result = []\n",
    "        for i in range(len(X_test)):\n",
    "            X = X_test[i]\n",
    "            knn_list = []\n",
    "            for j in range(self.k):\n",
    "                dist = np.linalg.norm(X - self.X_train[j], ord=self.p) #np中求线性代数范数的公式\n",
    "                knn_list.append((dist, self.Y_train[j]))\n",
    "            for l in range(self.k, len(self.X_train)):\n",
    "                max_index = knn_list.index(max(knn_list, key=lambda x: x[0]))\n",
    "                dist_new = np.linalg.norm(X-self.X_train[l], ord=self.p)\n",
    "                if knn_list[max_index][0] > dist_new:\n",
    "                    knn_list[max_index] = (dist, self.Y_train[l])\n",
    "                    \n",
    "            # 分类决策规则：多数表决\n",
    "            knn_label = [k[-1] for k in knn_list]\n",
    "            max_count_label = max(knn_label, key=knn_label.count)\n",
    "            result.append(max_count_label)\n",
    "        return result\n",
    "    \n",
    "    def Correct_rate(self, X_test, Y_test):\n",
    "        right_count = 0\n",
    "        predictions = self.predict(X_test)\n",
    "        for i in range(len(Y_test)):\n",
    "            if predictions[i] == Y_test[i]:\n",
    "                right_count += 1\n",
    "        return right_count / len(X_test)"
   ]
  },
  {
   "cell_type": "code",
   "execution_count": 7,
   "metadata": {},
   "outputs": [],
   "source": [
    "KNN = KNN_LinearSearch(X_train, Y_train)"
   ]
  },
  {
   "cell_type": "code",
   "execution_count": 8,
   "metadata": {},
   "outputs": [
    {
     "data": {
      "text/plain": [
       "[1.0, 0.0, 1.0, 2.0, 1.0, 0.0, 0.0, 0.0, 1.0, 2.0, 1.0, 2.0, 1.0, 2.0, 0.0]"
      ]
     },
     "execution_count": 8,
     "metadata": {},
     "output_type": "execute_result"
    }
   ],
   "source": [
    "KNN.predict(X_test)"
   ]
  },
  {
   "cell_type": "code",
   "execution_count": 9,
   "metadata": {},
   "outputs": [
    {
     "data": {
      "text/plain": [
       "1.0"
      ]
     },
     "execution_count": 9,
     "metadata": {},
     "output_type": "execute_result"
    }
   ],
   "source": [
    "KNN.Correct_rate(X_test, Y_test)\n",
    "## 标准化的正确率 大于 未标准化的正确率\n",
    "## 由于过程中对数据进行了随机化，所以每次运行的结果不同\n",
    "## 对于结果而言可以设置不同的k，并找到一个合适的k值"
   ]
  },
  {
   "cell_type": "markdown",
   "metadata": {},
   "source": [
    "## kd树的最近邻搜索k个最近点"
   ]
  },
  {
   "cell_type": "code",
   "execution_count": 13,
   "metadata": {},
   "outputs": [],
   "source": [
    "class KdNode:\n",
    "    def __init__(self, dom_elt, split, left, right):\n",
    "        self.dom_elt = dom_elt # k维向量节点（k维空间中的一个样本点）, 分割的那个样本点 dom_elt = [1,2,3,5,6...]\n",
    "        self.split = split # 整数（进行分割纬度的序号）\n",
    "        self.left = left # 该结点分割超平面左子空间构成的kd-tree\n",
    "        self.right = right # 该结点分割超平面右子空间构成的kd-tree\n",
    "\n",
    "class KdTree:\n",
    "    def __init__(self, data):\n",
    "        dim = len(data[0]) # 数据维度\n",
    "        \n",
    "        def CreateNode(split, data_set):\n",
    "            if not data_set:\n",
    "                return None\n",
    "            # 按要进行分割的那一切数据排序\n",
    "            data_set.sort(key=lambda x: x[split]) # 这里sort，key的用法和max类似\n",
    "            split_pos = len(data_set) // 2 # 整数除法\n",
    "            median = data_set[split_pos]  # 中位数分割点\n",
    "            split_next = (split + 1) % dim\n",
    "            \n",
    "            # 递归的创建kd树\n",
    "            return KdNode(median, split, \n",
    "                          CreateNode(split_next, data_set[:split_pos]),\n",
    "                          CreateNode(split_next, data_set[split_pos + 1:]))\n",
    "        self.root = CreateNode(0, data) # 从第0维开始创建kd树\n",
    "\n",
    "# kd树的前序遍历\n",
    "def preorder(root):\n",
    "    print(root.dom_elt)\n",
    "    if root.left: # 节点不为空\n",
    "        preorder(root.left)\n",
    "    if root.right:\n",
    "        preorder(root.right)"
   ]
  },
  {
   "cell_type": "code",
   "execution_count": 22,
   "metadata": {},
   "outputs": [],
   "source": [
    "## 寻找最近的k个点\n",
    "from math import sqrt\n",
    "from collections import namedtuple\n",
    "\n",
    "# 定义一个namedtuple, 分别存放最近坐标点、最近距离和访问过的节点数\n",
    "result = namedtuple(\"Result_tuple\", \"nearest_point nearest_dist nodes_visited\")\n",
    "\n",
    "def find_nearest(tree, point):\n",
    "    dim = len(point)\n",
    "    def travel(kd_node, target, max_dist):\n",
    "        # 迭代终止条件\n",
    "        if kd_node is None:\n",
    "            return result([0] * dim, float(\"inf\"), 0)  # float(\"inf\")正无穷，float(\"-inf\")\n",
    "        \n",
    "        nodes_visited = 1\n",
    "        s = kd_node.split  # 分割的纬度\n",
    "        pivot = kd_node.dom_elt  # 进行分割的轴，实例点\n",
    "        \n",
    "        if target[s] <= pivot[s]:  # 如果目标点第s维小于分割点的对应值\n",
    "            nearer_node = kd_node.left #下一访问节点为左子树根节点\n",
    "            further_node = kd_node.right # 同时记录右子树以便后期与目标点进行比较\n",
    "        else:\n",
    "            nearer_node = kd_node.right\n",
    "            further_node = kd_node.left\n",
    "            \n",
    "        temp1 = travel(nearer_node, target, max_dist) # 递归遍历\n",
    "        \n",
    "        nearest = temp1.nearest_point # 以此叶节点作为当前最近点\n",
    "        dist = temp1.nearest_dist # 更新最近距离\n",
    "        nodes_visited += temp1.nodes_visited\n",
    "        \n",
    "        if dist < max_dist:\n",
    "            max_dist = dist\n",
    "        \n",
    "        temp_dist = abs(pivot[s] - target[s]) # 第s维上目标点与分割超平面的距离\n",
    "        \n",
    "        if max_dist < temp_dist: # 判断超球体是否与超平面相交\n",
    "            return result(nearest, dist, nodes_visited) # 不相交则可以直接返回，不用继续判断，也就意味这父节点(分割点)的另一子节点不会比现在的子节点与目标点更近\n",
    "        \n",
    "        # 计算目标点和分割点的欧氏距离\n",
    "        temp_dist = sqrt(sum((p1 - p2) ** 2 for p1, p2 in zip(pivot, target)))\n",
    "        if temp_dist < dist: # 意味着分割点此时为最近点\n",
    "            nearest = pivot # 更新最近点\n",
    "            dist =  temp_dist # 更新最近距离\n",
    "            max_dist = dist  # 更新超超球体半径\n",
    "        \n",
    "        # 检查另一个子节点对应的区域是否有更近的点\n",
    "        temp2 = travel(further_node, target, max_dist)\n",
    "        \n",
    "        nodes_visited += temp2.nodes_visited\n",
    "        \n",
    "        if temp2.nearest_dist < dist: # 如果另一个子节点内存在更近距离\n",
    "            nearest = temp2.nearest_point\n",
    "            dist = temp2.nearest_dist\n",
    "        \n",
    "        return result(nearest, dist, nodes_visited) \n",
    "    return travel(tree.root, point, float(\"inf\"))  # 从根节点递归"
   ]
  },
  {
   "cell_type": "code",
   "execution_count": 23,
   "metadata": {},
   "outputs": [
    {
     "name": "stdout",
     "output_type": "stream",
     "text": [
      "[7, 2]\n",
      "[5, 4]\n",
      "[2, 3]\n",
      "[4, 7]\n",
      "[9, 6]\n",
      "[8, 1]\n"
     ]
    }
   ],
   "source": [
    "data = [[2,3],[5,4],[9,6],[4,7],[8,1],[7,2]]\n",
    "kd = KdTree(data)\n",
    "preorder(kd.root)"
   ]
  },
  {
   "cell_type": "code",
   "execution_count": 24,
   "metadata": {},
   "outputs": [],
   "source": [
    "from time import clock\n",
    "from random import random\n",
    "\n",
    "# 产生一个k维随机向量，每维分量值在0～1之间\n",
    "def random_point(k):\n",
    "    return [random() for _ in range(k)]\n",
    "\n",
    "# 产生n个k维随机向量\n",
    "def random_points(k, n):\n",
    "    return [random_point(k) for _ in range(n)]"
   ]
  },
  {
   "cell_type": "code",
   "execution_count": 25,
   "metadata": {},
   "outputs": [
    {
     "name": "stdout",
     "output_type": "stream",
     "text": [
      "Result_tuple(nearest_point=[2, 3], nearest_dist=1.8027756377319946, nodes_visited=4)\n"
     ]
    }
   ],
   "source": [
    "ret = find_nearest(kd, [3, 4.5])\n",
    "print(ret)"
   ]
  },
  {
   "cell_type": "code",
   "execution_count": 26,
   "metadata": {},
   "outputs": [
    {
     "name": "stdout",
     "output_type": "stream",
     "text": [
      "time:  5.106322 s\n",
      "Result_tuple(nearest_point=[0.10488218676493222, 0.49793482149466295, 0.7951887681764834], nearest_dist=0.007158817047962914, nodes_visited=62)\n"
     ]
    }
   ],
   "source": [
    "N = 400000\n",
    "t0 = clock()\n",
    "kd2 = KdTree(random_points(3,N)) # 构建包含四十万个3维空间样本点的kd树\n",
    "ret2 = find_nearest(kd2, [0.1, 0.5, 0.8]) # 四十万个样本点中寻找离目标最近的点\n",
    "t1 = clock()\n",
    "print(\"time: \", t1-t0, \"s\")\n",
    "print(ret2)"
   ]
  },
  {
   "cell_type": "code",
   "execution_count": null,
   "metadata": {},
   "outputs": [],
   "source": []
  }
 ],
 "metadata": {
  "kernelspec": {
   "display_name": "Python 3",
   "language": "python",
   "name": "python3"
  },
  "language_info": {
   "codemirror_mode": {
    "name": "ipython",
    "version": 3
   },
   "file_extension": ".py",
   "mimetype": "text/x-python",
   "name": "python",
   "nbconvert_exporter": "python",
   "pygments_lexer": "ipython3",
   "version": "3.6.8"
  }
 },
 "nbformat": 4,
 "nbformat_minor": 4
}
