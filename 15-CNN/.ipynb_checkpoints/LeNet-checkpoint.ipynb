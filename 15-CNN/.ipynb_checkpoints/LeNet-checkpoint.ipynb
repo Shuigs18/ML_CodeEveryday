{
 "cells": [
  {
   "cell_type": "code",
   "execution_count": 1,
   "metadata": {},
   "outputs": [],
   "source": [
    "# 基于tensorflow的LeNet模型的实现\n",
    "# 模型编译\n",
    "#    均使用sigmod函数\n",
    "#    1. 卷积层：5 * 5 通道 6，没有padding，inputshape sigmod函数\n",
    "#    2. 池化层：2 * 2 strides=2\n",
    "#    3. 卷积层：5 * 5 通道 16 \n",
    "#    4. 池化层：2 * 2 strides=2\n",
    "#    5. 全连接层1: units=120\n",
    "#    6. 全连接层2: units=84\n",
    "#    7. 全连接层3: units=10（输出层）\n",
    "#    优化器：SGD\n",
    "#    损失函数：loss = sparse_categorical_crossentropy\n",
    "# 数据集： fashion_mnist\n",
    "import numpy as np\n",
    "import tensorflow as tf"
   ]
  },
  {
   "cell_type": "code",
   "execution_count": 5,
   "metadata": {},
   "outputs": [],
   "source": [
    "# 数据集\n",
    "fashion = tf.keras.datasets.fashion_mnist\n",
    "(X_train, Y_train), (X_test, Y_test) = fashion.load_data()\n",
    "X_train = tf.reshape(X_train, (X_train.shape[0], X_train.shape[1], X_train.shape[2], 1))\n",
    "X_test = tf.reshape(X_test, (X_test.shape[0], X_test.shape[1], X_test.shape[2], 1))"
   ]
  },
  {
   "cell_type": "code",
   "execution_count": 10,
   "metadata": {},
   "outputs": [
    {
     "name": "stdout",
     "output_type": "stream",
     "text": [
      "Epoch 1/5\n",
      "1688/1688 [==============================] - 12s 7ms/step - loss: 1.7185 - accuracy: 0.3358 - val_loss: 0.6825 - val_accuracy: 0.7138\n",
      "Epoch 2/5\n",
      "1688/1688 [==============================] - 12s 7ms/step - loss: 0.6704 - accuracy: 0.7376 - val_loss: 0.7149 - val_accuracy: 0.7167\n",
      "Epoch 3/5\n",
      "1688/1688 [==============================] - 14s 8ms/step - loss: 0.7021 - accuracy: 0.7214 - val_loss: 0.6143 - val_accuracy: 0.7437\n",
      "Epoch 4/5\n",
      "1688/1688 [==============================] - 15s 9ms/step - loss: 0.5718 - accuracy: 0.7741 - val_loss: 0.4806 - val_accuracy: 0.8105\n",
      "Epoch 5/5\n",
      "1688/1688 [==============================] - 17s 10ms/step - loss: 0.4805 - accuracy: 0.8147 - val_loss: 0.4246 - val_accuracy: 0.8340\n"
     ]
    },
    {
     "data": {
      "text/plain": [
       "<tensorflow.python.keras.callbacks.History at 0x7fa5ff235630>"
      ]
     },
     "execution_count": 10,
     "metadata": {},
     "output_type": "execute_result"
    }
   ],
   "source": [
    "# 模型编译\n",
    "net = tf.keras.models.Sequential([\n",
    "    tf.keras.layers.Conv2D(filters=6, kernel_size=5, activation='sigmoid', input_shape=(28, 28, 1)),\n",
    "    tf.keras.layers.MaxPool2D(pool_size=2, strides=2),\n",
    "    tf.keras.layers.Conv2D(filters=16, kernel_size=5, activation='sigmoid'),\n",
    "    tf.keras.layers.MaxPool2D(pool_size=2, strides=2),\n",
    "    tf.keras.layers.Flatten(),\n",
    "    tf.keras.layers.Dense(units=120, activation='sigmoid'),\n",
    "    tf.keras.layers.Dense(units=84, activation='sigmoid'),\n",
    "    tf.keras.layers.Dense(units=10, activation='sigmoid')\n",
    "])\n",
    "optimizer = tf.keras.optimizers.SGD(learning_rate=0.9, momentum=0.0, nesterov=False)\n",
    "net.compile(optimizer=optimizer,\n",
    "           loss = 'sparse_categorical_crossentropy',\n",
    "           metrics=['accuracy'])\n",
    "net.fit(X_train, Y_train, epochs=5, validation_split=0.1)"
   ]
  },
  {
   "cell_type": "code",
   "execution_count": null,
   "metadata": {},
   "outputs": [],
   "source": []
  }
 ],
 "metadata": {
  "kernelspec": {
   "display_name": "Python 3",
   "language": "python",
   "name": "python3"
  },
  "language_info": {
   "codemirror_mode": {
    "name": "ipython",
    "version": 3
   },
   "file_extension": ".py",
   "mimetype": "text/x-python",
   "name": "python",
   "nbconvert_exporter": "python",
   "pygments_lexer": "ipython3",
   "version": "3.6.8"
  }
 },
 "nbformat": 4,
 "nbformat_minor": 4
}
