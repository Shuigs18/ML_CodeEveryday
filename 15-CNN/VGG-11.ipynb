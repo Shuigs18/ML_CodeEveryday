{
 "cells": [
  {
   "cell_type": "code",
   "execution_count": 1,
   "metadata": {},
   "outputs": [],
   "source": [
    "# 基于tnesorflow的VGG实现\n",
    "# 这里VGG由8个卷积层，3个全连接层构成\n",
    "# 5个卷积块，前2块使用单卷积层，而后3块使用双卷积层\n",
    "# 每个卷积层填充为1， 窗口为3 * 3， 步幅为2， 池化层步幅为2，形状为2 * 2\n",
    "# 全连接层和AlexNet一样，4096 relu，dropout(0.5), 4096 relu，dropout(0.5), 10 sigmoid\n",
    "import numpy as np\n",
    "import tensorflow as tf"
   ]
  },
  {
   "cell_type": "code",
   "execution_count": null,
   "metadata": {},
   "outputs": [],
   "source": []
  }
 ],
 "metadata": {
  "kernelspec": {
   "display_name": "Python 3",
   "language": "python",
   "name": "python3"
  },
  "language_info": {
   "codemirror_mode": {
    "name": "ipython",
    "version": 3
   },
   "file_extension": ".py",
   "mimetype": "text/x-python",
   "name": "python",
   "nbconvert_exporter": "python",
   "pygments_lexer": "ipython3",
   "version": "3.6.8"
  }
 },
 "nbformat": 4,
 "nbformat_minor": 4
}
