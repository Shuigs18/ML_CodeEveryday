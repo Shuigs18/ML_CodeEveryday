{
 "cells": [
  {
   "cell_type": "code",
   "execution_count": 1,
   "metadata": {},
   "outputs": [],
   "source": [
    "import pandas as pd\n",
    "import numpy as np"
   ]
  },
  {
   "cell_type": "markdown",
   "metadata": {},
   "source": [
    "### 数据预处理"
   ]
  },
  {
   "cell_type": "code",
   "execution_count": 2,
   "metadata": {},
   "outputs": [
    {
     "name": "stdout",
     "output_type": "stream",
     "text": [
      "Size of training set:48830\n",
      "Size of development set:5426\n",
      "Size of test set:27622\n",
      "Dimension of data:510\n"
     ]
    }
   ],
   "source": [
    "np.random.seed(0)\n",
    "## pd转为array，标准化，将训练数据划分为开发集和训练集\n",
    "## 数据格式转化\n",
    "X_train_fpath = '/Users/shuiguangshan/Mydocument/Grade 1 master/06 ML/02 CodeEveryday/02-classification/X_train.csv'\n",
    "Y_train_fpath = '/Users/shuiguangshan/Mydocument/Grade 1 master/06 ML/02 CodeEveryday/02-classification/Y_train.csv'\n",
    "X_test_fpath = '/Users/shuiguangshan/Mydocument/Grade 1 master/06 ML/02 CodeEveryday/02-classification/X_test.csv'\n",
    "output_fpath = '/Users/shuiguangshan/Mydocument/Grade 1 master/06 ML/02 CodeEveryday/02-classification/output_{}.csv'\n",
    "\n",
    "# Parse csv files to numpy array\n",
    "# >>> y[1]\n",
    "# 2\n",
    "# >>> y[1:2]\n",
    "# array([2])\n",
    "# 这就是为什么 X_train 是 n * m，Y_train是 1 * n\n",
    "\n",
    "with open(X_train_fpath) as f:\n",
    "    next(f)\n",
    "    X_train = np.array([line.strip('\\n').split(',')[1:] for line in f], dtype = float) # array([[1,2], [2,3]...])\n",
    "with open(Y_train_fpath) as f:\n",
    "    next(f)\n",
    "    Y_train = np.array([line.strip('\\n').split(',')[1] for line in f], dtype = float)  # array([1,0,0,1,...])\n",
    "with open(X_test_fpath) as f:\n",
    "    next(f)\n",
    "    X_test = np.array([line.strip('\\n').split(',')[1:] for line in f], dtype = float)\n",
    "\n",
    "## normalize data\n",
    "def _normalize(X, train_set = True, specified_column = None, X_mean = None, X_std = None):\n",
    "    # This function normalizes specific columns of x \n",
    "    # Arguments:\n",
    "    #    X: data to be processed\n",
    "    #    train_set: 'True' when processing training data, 'False' for testing data\n",
    "    #    specified_column: indexs of the columns that will be normalized. If 'None', all columns will\n",
    "    #          be normalized\n",
    "    #    X_mean: mean value of training data, used when train_set = 'False'\n",
    "    #    X_std: just like X_mean\n",
    "    if specified_column == None:\n",
    "        specified_column = np.arange(X.shape[1])\n",
    "    if train_set:\n",
    "        X_mean = np.mean(X[:, specified_column], axis = 0).reshape(1, -1)\n",
    "        X_std = np.std(X[:, specified_column], axis = 0).reshape(1, -1)\n",
    "    \n",
    "    #X[:, specified_column] = np.true_divide(X[:, specified_column] - X_mean,  X_std) 不能用这个 方差为0或NaN会报错\n",
    "    X[:, specified_column] = (X[:, specified_column] - X_mean) / ( X_std + 1e-8)\n",
    "    \n",
    "    return X, X_mean, X_std\n",
    "\n",
    "## 将训练数据划分为训练集和开发集\n",
    "def _train_dev_split(X, Y, dev_ratio = 0.25):\n",
    "    train_size = int(len(X) * (1 - dev_ratio))\n",
    "    return X[:train_size], Y[:train_size], X[train_size:], Y[train_size:]\n",
    "\n",
    "# 标准化\n",
    "X_train, X_mean, X_std = _normalize(X_train, train_set = True)\n",
    "X_test, _, _ = _normalize(X_test, train_set = False, X_mean = X_mean, X_std = X_std)\n",
    "\n",
    "# 划分数据集（训练集和开发集）\n",
    "dev_ratio = 0.1\n",
    "X_train, Y_train, X_dev, Y_dev = _train_dev_split(X_train, Y_train, dev_ratio)\n",
    "\n",
    "train_size = X_train.shape[0]\n",
    "dev_size = X_dev.shape[0]\n",
    "test_size = X_test.shape[0]\n",
    "data_dim = X_train.shape[1]\n",
    "\n",
    "print('Size of training set:{}'.format(train_size))\n",
    "print('Size of development set:{}'.format(dev_size))\n",
    "print('Size of test set:{}'.format(test_size))\n",
    "print('Dimension of data:{}'.format(data_dim))\n"
   ]
  },
  {
   "cell_type": "markdown",
   "metadata": {},
   "source": [
    "### 经常调用的函数"
   ]
  },
  {
   "cell_type": "code",
   "execution_count": 3,
   "metadata": {},
   "outputs": [],
   "source": [
    "## 数据随机化、sigmod函数、logistics函数、预测函数、正确率函数\n",
    "def _shuffle(X, Y):\n",
    "    randomize = np.arange(len(X))\n",
    "    np.random.shuffle(randomize)\n",
    "    return (X[randomize], Y[randomize])\n",
    "\n",
    "def _sigmod(z):\n",
    "    return np.clip(1 / (1.0 + np.exp(-z)), 1e-8, 1 - (1e-8)) # 这里的z可以是一个向量 n * 1\n",
    "\n",
    "def _f(X, w, b):\n",
    "    return _sigmod(np.matmul(X, w) + b) ## matual()矩阵相乘 返回1 * n 的矩阵\n",
    "\n",
    "def _predict(X, w, b):\n",
    "    return np.round(_f(X, w, b)).astype(np.int)  # np.round(x, decimals = 0) 四舍五入，decimals表示几位小数\n",
    "\n",
    "def _accuracy(Y_pred, Y_label):\n",
    "    return (1 - np.mean(np.abs(Y_pred - Y_label))) # np.mean() 默认情况是对所有值求平均，aixs=0 是对列求平均，axis=1是对行求平均\n",
    "    "
   ]
  },
  {
   "cell_type": "markdown",
   "metadata": {},
   "source": [
    "### 梯度和损失函数计算"
   ]
  },
  {
   "cell_type": "code",
   "execution_count": 4,
   "metadata": {},
   "outputs": [],
   "source": [
    "## 损失函数使用交叉熵，不用mse，具体原因见笔记\n",
    "def _cross_entropy_loss(y_pred, Y_label):\n",
    "    cross_entropy_loss = -np.dot(Y_label, np.log(y_pred)) - np.dot((1 - Y_label), np.log(1 - y_pred))\n",
    "    return cross_entropy_loss\n",
    "\n",
    "def _gradient(X, Y_label, w, b):\n",
    "    y_pred = _f(X, w, b)\n",
    "    pred_error = Y_label - y_pred\n",
    "    w_grad = -np.sum(pred_error * X.T, 1) # 这步是为啥？ # w_grad = -np.dot(x.T, pred_error) * 乘就是对应位置相乘\n",
    "    # y = np.array([1,2,3])\n",
    "    # X = np.array([[1,2],[3,4],[4,5]])\n",
    "    # y * X.T\n",
    "    # array([[ 1,  6, 12],\n",
    "    #        [ 2,  8, 15]])\n",
    "    b_grad = -np.sum(pred_error)\n",
    "    return w_grad, b_grad"
   ]
  },
  {
   "cell_type": "markdown",
   "metadata": {},
   "source": [
    "### 模型训练"
   ]
  },
  {
   "cell_type": "code",
   "execution_count": 5,
   "metadata": {},
   "outputs": [
    {
     "name": "stdout",
     "output_type": "stream",
     "text": [
      "Training loss: 0.271355435246406\n",
      "Development loss: 0.2896359675026286\n",
      "Training accuracy: 0.8836166291214418\n",
      "Development loss: 0.8733873940287504\n"
     ]
    }
   ],
   "source": [
    "# 初始化权重和偏移量\n",
    "w = np.zeros((data_dim,))\n",
    "b = np.zeros((1,))\n",
    "\n",
    "# 训练的参数\n",
    "max_iter = 10\n",
    "batch_size = 8\n",
    "learning_rate = 0.2\n",
    "\n",
    "# 记录每次迭代的损失值和准确率，以便画图\n",
    "train_loss = []\n",
    "dev_loss = []\n",
    "train_acc = []\n",
    "dev_acc = []\n",
    "\n",
    "# 记录参数更新的次数\n",
    "step = 1\n",
    "\n",
    "# 迭代训练\n",
    "for epoch in range(max_iter):\n",
    "    # 对数据进行洗牌\n",
    "    X_train, Y_train = _shuffle(X_train, Y_train)\n",
    "    \n",
    "    # 小批量梯度更新 mini-batch gradient\n",
    "    for idx in range(int(np.floor(train_size / batch_size))):\n",
    "        X = X_train[idx * batch_size : (idx + 1) * batch_size]\n",
    "        Y = Y_train[idx * batch_size : (idx + 1) * batch_size]\n",
    "        \n",
    "        # 计算梯度\n",
    "        w_grad, b_grad = _gradient(X, Y, w, b)\n",
    "        \n",
    "        # 梯度下降更新\n",
    "        # 学习率随时间递减\n",
    "        w -= learning_rate / np.sqrt(step) * w_grad\n",
    "        b -= learning_rate / np.sqrt(step) * b_grad\n",
    "        \n",
    "        step += 1\n",
    "    # 计算训练集、开发集的loss值和accuracy \n",
    "    y_train_pred = _f(X_train, w, b)\n",
    "    Y_train_pred = np.round(y_train_pred)\n",
    "    train_loss.append(_cross_entropy_loss(y_train_pred, Y_train) / train_size)\n",
    "    train_acc.append(_accuracy(Y_train_pred, Y_train))\n",
    "    \n",
    "    y_dev_pred = _f(X_dev, w, b)\n",
    "    Y_dev_pred = np.round(y_dev_pred)\n",
    "    dev_loss.append(_cross_entropy_loss(y_dev_pred, Y_dev) / dev_size)\n",
    "    dev_acc.append(_accuracy(Y_dev_pred, Y_dev))\n",
    "\n",
    "print('Training loss: {}'.format(train_loss[-1]))\n",
    "print('Development loss: {}'.format(dev_loss[-1]))\n",
    "print('Training accuracy: {}'.format(train_acc[-1]))\n",
    "print('Development loss: {}'.format(dev_acc[-1]))"
   ]
  },
  {
   "cell_type": "markdown",
   "metadata": {},
   "source": [
    "### 画损失函数图和正确率图"
   ]
  },
  {
   "cell_type": "code",
   "execution_count": 6,
   "metadata": {},
   "outputs": [
    {
     "data": {
      "image/png": "[encoded data removed]",
      "text/plain": [
       "<Figure size 432x288 with 1 Axes>"
      ]
     },
     "metadata": {
      "needs_background": "light"
     },
     "output_type": "display_data"
    },
    {
     "data": {
      "image/png": "[encoded data removed]",
      "text/plain": [
       "<Figure size 432x288 with 1 Axes>"
      ]
     },
     "metadata": {
      "needs_background": "light"
     },
     "output_type": "display_data"
    }
   ],
   "source": [
    "import matplotlib.pyplot as plt\n",
    "\n",
    "# Loss curve\n",
    "plt.plot(train_loss)\n",
    "plt.plot(dev_loss)\n",
    "plt.title('Loss')\n",
    "plt.legend(['train', 'dev'])\n",
    "plt.savefig('loss.png')\n",
    "plt.show()\n",
    "\n",
    "# accuracy curve\n",
    "plt.plot(train_acc)\n",
    "plt.plot(dev_acc)\n",
    "plt.title('Loss')\n",
    "plt.legend(['train', 'dev'])\n",
    "plt.savefig('acc.png')\n",
    "plt.show()"
   ]
  },
  {
   "cell_type": "markdown",
   "metadata": {},
   "source": [
    "### 预测测试集"
   ]
  },
  {
   "cell_type": "code",
   "execution_count": 9,
   "metadata": {},
   "outputs": [
    {
     "name": "stdout",
     "output_type": "stream",
     "text": [
      " Not in universe -4.031960278019252\n",
      " Spouse of householder -1.6254039587051405\n",
      " Other Rel <18 never married RP of subfamily -1.4195759775765389\n",
      " Child 18+ ever marr Not in a subfamily -1.2958572076664747\n",
      " Unemployed full-time 1.1712558285885908\n",
      " Other Rel <18 ever marr RP of subfamily -1.1677918072962363\n",
      " Italy -1.0934581438006181\n",
      " Vietnam -1.063036563314642\n",
      "num persons worked for employer 0.9389922773566483\n",
      " 1 0.8226614922117192\n"
     ]
    }
   ],
   "source": [
    "# predict testing labels\n",
    "predictions = _predict(X_test, w, b)\n",
    "with open(output_fpath.format('logistic'), 'w') as f:\n",
    "    f.write('id,label\\n')\n",
    "    for i, label in enumerate(predictions):\n",
    "        f.write('{},{}\\n'.format(i, label))\n",
    "\n",
    "# print out the most significant weights\n",
    "ind = np.argsort(np.abs(w))[::-1]  # https://numpy.org/doc/stable/reference/generated/numpy.argsort.html\n",
    "with open(X_test_fpath) as f:\n",
    "    content = f.readline().strip('\\n').split(',') # 读取第一行特征名称\n",
    "features = np.array(content)\n",
    "for i in ind[0: 10]: # 取权重绝对值最大的10个特征\n",
    "    print(features[i], w[i])"
   ]
  },
  {
   "cell_type": "markdown",
   "metadata": {},
   "source": [
    "### 用概率生成模型预测"
   ]
  },
  {
   "cell_type": "code",
   "execution_count": 11,
   "metadata": {},
   "outputs": [],
   "source": [
    "with open(X_train_fpath) as f:\n",
    "    next(f)\n",
    "    X_train = np.array([line.strip('\\n').split(',')[1:] for line in f], dtype = float) # array([[1,2], [2,3]...])\n",
    "with open(Y_train_fpath) as f:\n",
    "    next(f)\n",
    "    Y_train = np.array([line.strip('\\n').split(',')[1] for line in f], dtype = float)  # array([1,0,0,1,...])\n",
    "with open(X_test_fpath) as f:\n",
    "    next(f)\n",
    "    X_test = np.array([line.strip('\\n').split(',')[1:] for line in f], dtype = float)\n",
    "\n",
    "X_train, X_mean, X_std = _normalize(X_train, train_set = True)\n",
    "X_test, _, _ = _normalize(X_test, train_set=False, specified_column = None, X_mean = X_mean, X_std = X_std)"
   ]
  },
  {
   "cell_type": "code",
   "execution_count": 12,
   "metadata": {},
   "outputs": [],
   "source": [
    "# 计算平均值和协方差\n",
    "X_train_0 = np.array([x for x, y in zip(X_train, Y_train) if y == 0])\n",
    "X_train_1 = np.array([x for x, y in zip(X_train, Y_train) if y == 1])\n",
    "\n",
    "mean_0 = np.mean(X_train_0, axis = 0)\n",
    "mean_1 = np.mean(X_train_1, axis = 0)\n",
    "\n",
    "cov_0 = np.zeros((data_dim, data_dim))\n",
    "cov_1 = np.zeros((data_dim, data_dim))\n",
    "\n",
    "for x in X_train_0:\n",
    "    cov_0 += np.dot(np.transpose([x - mean_0]), [x - mean_0]) / X_train_0.shape[0]\n",
    "for x in X_train_1:\n",
    "    cov_1 += np.dot(np.transpose([x - mean_1]), [x - mean_1]) / X_train_1.shape[0]\n",
    "\n",
    "# Shared covariance is taken as a weighted average of individual in-class covariance.    \n",
    "cov = (cov_0 * X_train_0.shape[0] + cov_1 * X_train_1.shape[0])"
   ]
  },
  {
   "cell_type": "markdown",
   "metadata": {},
   "source": [
    "### 计算权重和偏差向量"
   ]
  },
  {
   "cell_type": "code",
   "execution_count": 14,
   "metadata": {},
   "outputs": [
    {
     "name": "stdout",
     "output_type": "stream",
     "text": [
      "Training accuracy: 0.7944743438513713\n"
     ]
    }
   ],
   "source": [
    "# 协方差的逆矩阵\n",
    "u, s, v = np.linalg.svd(cov, full_matrices=False)\n",
    "inv = np.matmul(v.T * 1 / s, u.T)\n",
    "\n",
    "# 计算权重和偏差\n",
    "w = np.dot(inv, mean_0 - mean_1)\n",
    "b =  (-0.5) * np.dot(mean_0, np.dot(inv, mean_0)) + 0.5 * np.dot(mean_1, np.dot(inv, mean_1))\\\n",
    "    + np.log(float(X_train_0.shape[0]) / X_train_1.shape[0]) \n",
    "\n",
    "# Compute accuracy on training set\n",
    "Y_train_pred = 1 - _predict(X_train, w, b)\n",
    "print('Training accuracy: {}'.format(_accuracy(Y_train_pred, Y_train)))"
   ]
  },
  {
   "cell_type": "code",
   "execution_count": 15,
   "metadata": {},
   "outputs": [
    {
     "name": "stdout",
     "output_type": "stream",
     "text": [
      " Retail trade 0.00015649199485778809\n",
      " 34 -0.00012093782424926758\n",
      " 37 -0.00010970234870910645\n",
      " Other service -0.00010110437870025635\n",
      " 35 8.296966552734375e-05\n",
      " Construction -7.915496826171875e-05\n",
      " 35 5.2809715270996094e-05\n",
      " Private household services -5.072355270385742e-05\n",
      " 3 -4.9114227294921875e-05\n",
      " 39 4.762411117553711e-05\n"
     ]
    }
   ],
   "source": [
    "# Predict testing labels\n",
    "predictions = 1 - _predict(X_test, w, b)\n",
    "with open(output_fpath.format('generative'), 'w') as f:\n",
    "    f.write('id,label\\n')\n",
    "    for i, label in  enumerate(predictions):\n",
    "        f.write('{},{}\\n'.format(i, label))\n",
    "\n",
    "# Print out the most significant weights\n",
    "ind = np.argsort(np.abs(w))[::-1]\n",
    "with open(X_test_fpath) as f:\n",
    "    content = f.readline().strip('\\n').split(',')\n",
    "features = np.array(content)\n",
    "for i in ind[0:10]:\n",
    "    print(features[i], w[i])"
   ]
  },
  {
   "cell_type": "markdown",
   "metadata": {},
   "source": [
    "### scikit_learn 实例\n",
    "\n",
    "#### sklearn.linear_model.LogisticRegression\n",
    "\n",
    "solver参数决定了我们对逻辑回归损失函数的优化方法，有四种算法可以选择，分别是：\n",
    "- a) liblinear：使用了开源的liblinear库实现，内部使用了坐标轴下降法来迭代优化损失函数。\n",
    "- b) lbfgs：拟牛顿法的一种，利用损失函数二阶导数矩阵即海森矩阵来迭代优化损失函数。\n",
    "- c) newton-cg：也是牛顿法家族的一种，利用损失函数二阶导数矩阵即海森矩阵来迭代优化损失函数。\n",
    "- d) sag：即随机平均梯度下降，是梯度下降法的变种，和普通梯度下降法的区别是每次迭代仅仅用一部分的样本来计算梯度，适合于样本数据多的时候。"
   ]
  },
  {
   "cell_type": "code",
   "execution_count": 3,
   "metadata": {},
   "outputs": [],
   "source": [
    "from math import exp\n",
    "import numpy as np\n",
    "import pandas as pd\n",
    "import matplotlib.pyplot as plt\n",
    "%matplotlib inline\n",
    "\n",
    "from sklearn.datasets import load_iris\n",
    "from sklearn.model_selection import train_test_split\n",
    "\n",
    "from sklearn.linear_model import LogisticRegression"
   ]
  },
  {
   "cell_type": "code",
   "execution_count": 4,
   "metadata": {},
   "outputs": [
    {
     "data": {
      "text/plain": [
       "LogisticRegression(max_iter=200)"
      ]
     },
     "execution_count": 4,
     "metadata": {},
     "output_type": "execute_result"
    }
   ],
   "source": [
    "iris = load_iris()\n",
    "df = pd.DataFrame(iris.data, columns=iris.feature_names)\n",
    "df['label'] = iris.target\n",
    "df.columns = ['sepal length', 'sepal width', 'petal length', 'petal width', 'label']\n",
    "data = np.array(df.iloc[:100, [0,1,-1]])\n",
    "X, y = data[:,:2], data[:,-1]\n",
    "X_train, X_test, y_train, y_test = train_test_split(X, y, test_size = 0.3)\n",
    "\n",
    "clf = LogisticRegression(max_iter = 200)\n",
    "clf.fit(X_train, y_train)"
   ]
  },
  {
   "cell_type": "code",
   "execution_count": 5,
   "metadata": {
    "scrolled": true
   },
   "outputs": [
    {
     "data": {
      "text/plain": [
       "array([0., 1., 0., 0., 0., 1., 0., 0., 1., 1., 1., 0., 0., 1., 1., 0., 1.,\n",
       "       1., 1., 1., 1., 0., 0., 1., 0., 0., 1., 0., 1., 0.])"
      ]
     },
     "execution_count": 5,
     "metadata": {},
     "output_type": "execute_result"
    }
   ],
   "source": [
    "clf.predict(X_test)"
   ]
  },
  {
   "cell_type": "code",
   "execution_count": 6,
   "metadata": {
    "scrolled": true
   },
   "outputs": [
    {
     "data": {
      "text/plain": [
       "0.9666666666666667"
      ]
     },
     "execution_count": 6,
     "metadata": {},
     "output_type": "execute_result"
    }
   ],
   "source": [
    "clf.score(X_test, y_test)"
   ]
  },
  {
   "cell_type": "code",
   "execution_count": 7,
   "metadata": {},
   "outputs": [
    {
     "name": "stdout",
     "output_type": "stream",
     "text": [
      "[[ 2.55188756 -2.88490912]] [-4.83721464]\n"
     ]
    }
   ],
   "source": [
    "print(clf.coef_, clf.intercept_)"
   ]
  },
  {
   "cell_type": "code",
   "execution_count": 10,
   "metadata": {},
   "outputs": [
    {
     "data": {
      "text/plain": [
       "<matplotlib.legend.Legend at 0x7feb52e4d978>"
      ]
     },
     "execution_count": 10,
     "metadata": {},
     "output_type": "execute_result"
    },
    {
     "data": {
      "image/png": "[encoded data removed]",
      "text/plain": [
       "<Figure size 432x288 with 1 Axes>"
      ]
     },
     "metadata": {
      "needs_background": "light"
     },
     "output_type": "display_data"
    }
   ],
   "source": [
    "x_points = np.arange(4, 8)\n",
    "y_ = -(clf.coef_[0][0] * x_points + clf.intercept_) / clf.coef_[0][1]\n",
    "plt.plot(x_points, y_)\n",
    "\n",
    "plt.plot(X[:50, 0], X[:50, 1], 'bo', color = 'blue', label = '0')\n",
    "plt.plot(X[50:, 0], X[50:, 1], 'bo', color = 'orange', label = '1')\n",
    "plt.xlabel('speal length')\n",
    "plt.ylabel('speal width')\n",
    "plt.legend()"
   ]
  },
  {
   "cell_type": "code",
   "execution_count": null,
   "metadata": {},
   "outputs": [],
   "source": []
  }
 ],
 "metadata": {
  "kernelspec": {
   "display_name": "Python 3",
   "language": "python",
   "name": "python3"
  },
  "language_info": {
   "codemirror_mode": {
    "name": "ipython",
    "version": 3
   },
   "file_extension": ".py",
   "mimetype": "text/x-python",
   "name": "python",
   "nbconvert_exporter": "python",
   "pygments_lexer": "ipython3",
   "version": "3.6.8"
  }
 },
 "nbformat": 4,
 "nbformat_minor": 4
}
