{
 "cells": [
  {
   "cell_type": "code",
   "execution_count": 1,
   "metadata": {},
   "outputs": [],
   "source": [
    "import time\n",
    "import numpy as np \n",
    "import pandas as pd\n",
    "import math\n",
    "import random\n",
    "\n",
    "from sklearn.datasets import load_iris\n",
    "from sklearn.model_selection import train_test_split\n",
    "import matplotlib.pyplot as plt\n",
    "%matplotlib inline"
   ]
  },
  {
   "cell_type": "code",
   "execution_count": 2,
   "metadata": {},
   "outputs": [
    {
     "data": {
      "text/plain": [
       "array([-1., -1., -1.,  1., -1.,  1., -1.,  1.,  1.,  1.,  1., -1., -1.,\n",
       "        1., -1.,  1., -1., -1.,  1., -1.,  1., -1., -1.,  1.,  1.,  1.,\n",
       "       -1., -1., -1., -1., -1.,  1., -1.,  1., -1.,  1., -1.,  1.,  1.,\n",
       "        1.,  1., -1.,  1., -1.,  1., -1., -1., -1., -1.,  1., -1., -1.,\n",
       "       -1.,  1.,  1., -1., -1., -1.,  1.,  1., -1., -1.,  1.,  1., -1.,\n",
       "       -1.,  1., -1.,  1.,  1.])"
      ]
     },
     "execution_count": 2,
     "metadata": {},
     "output_type": "execute_result"
    },
    {
     "data": {
      "image/png": "[encoded data removed]",
      "text/plain": [
       "<Figure size 432x288 with 1 Axes>"
      ]
     },
     "metadata": {
      "needs_background": "light"
     },
     "output_type": "display_data"
    }
   ],
   "source": [
    "# 数据准备阶段\n",
    "# 加载数据进行测试\n",
    "iris = load_iris()\n",
    "df = pd.DataFrame(iris.data, columns = iris.feature_names)\n",
    "df['label'] = iris.target\n",
    "df.columns = [\n",
    "     'sepal length', 'sepal width', 'petal length', 'petal width', 'label'\n",
    "]\n",
    "df[df == 0] = -1\n",
    "data = np.array(df.iloc[:100, [0, 1, -1]]) # 取前两类\n",
    "X, y = data[:, :2], data[:, -1]  # X只取两个维度\n",
    "\n",
    "## 对数据进行随机化\n",
    "def shuffle(X, Y):\n",
    "    randomize = np.arange(len(X))\n",
    "    np.random.shuffle(randomize)\n",
    "    return X[randomize], Y[randomize]\n",
    "\n",
    "data_X, data_y = shuffle(X, y)\n",
    "X_train, X_test, Y_train, Y_test = train_test_split(data_X, data_y, test_size = 0.3)\n",
    "\n",
    "plt.scatter(X[:50, 0], X[:50, 1], label = '0')\n",
    "plt.scatter(X[50:, 0], X[50:, 1], label = '1')\n",
    "plt.legend()\n",
    "Y_train # 是一个array"
   ]
  },
  {
   "cell_type": "code",
   "execution_count": 19,
   "metadata": {},
   "outputs": [],
   "source": [
    "# SVM 类\n",
    "    # 相关参数初始化\n",
    "    # func2. 计算核函数 返回高斯核矩阵（即所有变量间的核函数）\n",
    "    # func3. 判断是否满足KKT条件\n",
    "    # func4. 计算g（xi）= wx+b\n",
    "    # func5. 计算Ei\n",
    "    # func6. 获得第二个变量 alpha 2\n",
    "    # func7. 训练函数\n",
    "    # func8. 单独计算两个变量之间的核函数 我觉得不需要\n",
    "    # func8. 预测函数\n",
    "    # func9. 测试函数\n",
    "\n",
    "class SVM:\n",
    "    def __init__(self, X_train, Y_train, sigma = 10, C = 200, toler = 0.001, iter_times = 300):\n",
    "        '''\n",
    "        参数初始化：\n",
    "        X_train: 训练数据集 numpy array 格式\n",
    "        Y_trian: 训练标签集 numpy array 格式\n",
    "        sigma: 高斯核中的参数\n",
    "        C: 惩罚参数\n",
    "        toler: 松弛变量\n",
    "        '''\n",
    "        self.X_train = X_train\n",
    "        self.Y_train = Y_train\n",
    "        self.m, self.n = np.shape(X_train)   # m 为训练集中的数据个数， n为数据的维度\n",
    "        self.sigma = sigma\n",
    "        self.C = C\n",
    "        self.toler = toler\n",
    "        self.iter_times = iter_times\n",
    "        \n",
    "        self.k = self.calcKernel()                # 核函数初始化\n",
    "        self.b = 0.\n",
    "        self.alpha = np.zeros_like(Y_train)          # 目标函数的参数，要学习的参数\n",
    "        self.Ei = np.zeros_like(Y_train)               # Ei g(xi) 与 yi的差值\n",
    "        self.supportIndex = []                   # 用来存储支持向量\n",
    "    \n",
    "    def calcKernel(self): \n",
    "        '''\n",
    "        计算高斯核函数，并返回高斯核函数矩阵\n",
    "        '''\n",
    "        kernel = np.empty([self.m, self.m], dtype = float)  # 初始化高斯核矩阵\n",
    "        \n",
    "        # 该矩阵是对称的，所以只需要计算一半就行了\n",
    "        for i in range(self.m):\n",
    "            for j in range(i, self.m):\n",
    "                kernel[i][j] = np.exp( - (np.linalg.norm(self.X_train[i] - self.X_train[j], ord=2) ** 2) / (2 * self.sigma**2) )\n",
    "                kernel[j][i] = kernel[i][j]\n",
    "        \n",
    "        return kernel\n",
    "    \n",
    "    def isSatisfyKTT(self, i):\n",
    "        '''\n",
    "        查看第下标为i的alpha是否满足KTT条件\n",
    "        '''\n",
    "        gxi = self.calc_gxi(i)\n",
    "        yi = self.Y_train[i]\n",
    "        \n",
    "        if (math.fabs(self.alpha[i]) < self.toler) and (yi * gxi  >= 1):\n",
    "            return True\n",
    "        elif (self.alpha[i] > -self.toler and self.alpha[i] < self.C + self.toler) and \\\n",
    "             (math.fabs(gxi * yi - 1) < self.toler):\n",
    "            return True\n",
    "        elif (math.fabs(self.alpha[i] - self.C) < self.toler) and (yi * gxi <= 1):\n",
    "            return True\n",
    "        \n",
    "        return False\n",
    "    \n",
    "    def calc_gxi(self, i):\n",
    "        return sum(self.alpha * self.Y_train * self.k[i]) + self.b\n",
    "        # 但是怎么算有一个缺点，没有考虑alpha = 0 的x不需要算，也就是如果要提高计算效率，应该只考虑支持向量，也就是alpha ！= 0 的点\n",
    "    \n",
    "    def calcEi(self, i):\n",
    "        gxi = self.calc_gxi(i)\n",
    "        return gxi - self.Y_train[i]\n",
    "    \n",
    "    def getAlpha(self, E1, i):\n",
    "        '''\n",
    "        E1: 第一个alpha的 E1\n",
    "        i: 第一个alpha的下标\n",
    "        return: 第二个alpha， 第二个alpha的下标\n",
    "        '''\n",
    "        # 初始化\n",
    "        E2 = 0\n",
    "        # 初始化\n",
    "        maxE1_E2 = -1  \n",
    "        # 初始化 第二个变量的下标\n",
    "        maxIndex = -1  \n",
    "        \n",
    "        nozeroEi = [i for i, Ei in enumerate(self.Ei) if Ei != 0]\n",
    "        for j in np.arange(len(nozeroEi)):\n",
    "            E2_temp = self.calcEi(j)\n",
    "            if math.fabs(E2_temp - E1) > maxE1_E2:\n",
    "                maxE1_E2 = math.fabs(E2_temp - E1)\n",
    "                E2 = E2_temp\n",
    "                maxIndex = j\n",
    "        if maxIndex == -1: # 对应刚开始的时候，如果列表中没有非0元素了\n",
    "            maxIndex = i\n",
    "            while (maxIndex == i):\n",
    "                maxIndex = int(random.uniform(0, self.m))\n",
    "            E2 = self.calcEi(maxIndex)\n",
    "        \n",
    "        return E2, maxIndex\n",
    "    \n",
    "    def train(self):\n",
    "        iterStep = 0; parameterChange = 1\n",
    "        # iterStep迭代次数\n",
    "        # parameterChange 参数改变次数，parameterChange==0表示上次迭代中参数没有发生变化，如果参数没有发生变化则训练终止\n",
    "        while (iterStep < self.iter_times) and (parameterChange > 0):\n",
    "            iterStep += 1\n",
    "            parameterChange = 0\n",
    "            \n",
    "            # 大循环用于寻找第一个变量\n",
    "            for i in range(self.m):\n",
    "                # 如果不满足KKT条件\n",
    "                if self.isSatisfyKTT(i) == False: # 这里寻找第一个变量的方法是直接遍历，而非量化违反KTT条件，去寻找最严重的那一个\n",
    "                    E1 = self.calcEi(i)\n",
    "                    E2, j = self.getAlpha(E1, i)\n",
    "                \n",
    "                    y1 = self.Y_train[i]\n",
    "                    y2 = self.Y_train[j]\n",
    "                    \n",
    "                    oldAlpha1 = self.alpha[i]\n",
    "                    oldAlpha2 = self.alpha[j]\n",
    "                    \n",
    "                    if y1 != y2:\n",
    "                        L = max(0., oldAlpha2 - oldAlpha1)\n",
    "                        H = min(self.C, self.C + oldAlpha2 - oldAlpha1)\n",
    "                    else:\n",
    "                        L = max(0., oldAlpha2 + oldAlpha1 - self.C)\n",
    "                        H = min(self.C, oldAlpha2 + oldAlpha1)\n",
    "                    \n",
    "                    # 如果L==H，说明该变量无法在优化，直接跳到下一个循环\n",
    "                    if L == H:  continue\n",
    "                    \n",
    "                    K11 = self.k[i][i]\n",
    "                    K22 = self.k[j][j]\n",
    "                    K12 = self.k[i][j]\n",
    "                    K21 = self.k[j][i]\n",
    "                    \n",
    "                    # 计算未经剪辑的alpha2\n",
    "                    newAlpha2 = oldAlpha2 + y2 * (E1 - E2) / (K11 + K22 - 2 * K12)\n",
    "                    \n",
    "                    # 对alpha2进行剪辑\n",
    "                    if newAlpha2 > H:  newAlpha2 = H\n",
    "                    if newAlpha2 < L:  newAlpha2 = L\n",
    "                        \n",
    "                    # 计算alpha1\n",
    "                    newAlpha1 = oldAlpha1 + y1 * y2 * (oldAlpha2 - newAlpha2)\n",
    "                    \n",
    "                    # 在完成两个alpha的更新后，需要更新参数b\n",
    "                    newb1 = - E1 - y1 * K11 * (newAlpha1 - oldAlpha1) - \\\n",
    "                            y2 * K21 * (newAlpha2 - oldAlpha2) + self.b\n",
    "                    newb2 = - E2 - y1 * K12 * (newAlpha1 - oldAlpha1) - \\\n",
    "                            y2 * K22 * (newAlpha2 - oldAlpha2) + self.b\n",
    "                    \n",
    "                    if (newAlpha1 > 0) and (newAlpha1 < self.C):\n",
    "                        newb = newb1\n",
    "                    elif (newAlpha2 > 0) and (newAlpha2 < self.C):\n",
    "                        newb = newb2\n",
    "                    else:\n",
    "                        newb = (newb1 + newb2) / 2\n",
    "                    \n",
    "                    # 更新完 alpha 和 b之后，先存储，方便之后更新E\n",
    "                    self.alpha[i] = newAlpha1\n",
    "                    self.alpha[j] = newAlpha2\n",
    "                    self.b = newb\n",
    "                    # 除了要更新b之外，还需要更新对应的Ei的值，并将它们保存在列表中\n",
    "                    \n",
    "                    self.Ei[i] = self.calcEi(i)\n",
    "                    self.Ei[j] = self.calcEi(j)\n",
    "                    \n",
    "                    if (math.fabs(oldAlpha2 - newAlpha2) >= 0.00001):\n",
    "                        parameterChange += 1\n",
    "        # 保存支持向量，当数据量很大时可以用来优化\n",
    "        for i in range(self.m):\n",
    "            if self.alpha[i] > 0:\n",
    "                self.supportIndex.append(i)\n",
    "                \n",
    "    def calcSingleKernel(self, x1, x2):\n",
    "        '''\n",
    "        x1: array\n",
    "        x2: array\n",
    "        '''\n",
    "        result = np.exp( - (np.linalg.norm(x1 - x2, ord=2) ** 2) / (self.sigma ** 2) )\n",
    "        return result\n",
    "    \n",
    "    def predict(self, X_test):\n",
    "        '''\n",
    "        X_test: 预测数据集，格式numpy array\n",
    "        return 预测结果 numpy array 数组\n",
    "        '''\n",
    "        result = np.empty([len(X_test)], dtype = float)\n",
    "        K_x_xi = np.empty([self.m], dtype=float)\n",
    "        for j in range(len(X_test)):\n",
    "            for i in range(self.m):\n",
    "                K_x_xi[i] = self.calcSingleKernel(X_test[j], self.X_train[i])\n",
    "            result[j] = np.sum(self.alpha * self.Y_train * K_x_xi) + self.b\n",
    "        \n",
    "        return np.sign(result)\n",
    "    \n",
    "    def score(self, X_test, Y_test):\n",
    "        prediction = self.predict(X_test)\n",
    "        right_count = 0\n",
    "        for i in range(len(Y_test)):\n",
    "            if prediction[i] == Y_test[i]:\n",
    "                right_count += 1\n",
    "                \n",
    "        return right_count / len(Y_test)\n"
   ]
  },
  {
   "cell_type": "code",
   "execution_count": 20,
   "metadata": {},
   "outputs": [],
   "source": [
    "svm = SVM(X_train, Y_train)"
   ]
  },
  {
   "cell_type": "code",
   "execution_count": 21,
   "metadata": {},
   "outputs": [],
   "source": [
    "svm.train()"
   ]
  },
  {
   "cell_type": "code",
   "execution_count": 24,
   "metadata": {},
   "outputs": [
    {
     "data": {
      "text/plain": [
       "array([ 1.,  1.,  1., -1., -1., -1.,  1.,  1., -1., -1.,  1.,  1.,  1.,\n",
       "        1.,  1.,  1.,  1.,  1., -1., -1.,  1., -1., -1., -1.,  1.,  1.,\n",
       "       -1.,  1.,  1., -1.])"
      ]
     },
     "execution_count": 24,
     "metadata": {},
     "output_type": "execute_result"
    }
   ],
   "source": [
    "result = svm.predict(X_test)\n",
    "result"
   ]
  },
  {
   "cell_type": "code",
   "execution_count": 25,
   "metadata": {},
   "outputs": [
    {
     "data": {
      "text/plain": [
       "1.0"
      ]
     },
     "execution_count": 25,
     "metadata": {},
     "output_type": "execute_result"
    }
   ],
   "source": [
    "svm.score(X_test, Y_test)"
   ]
  },
  {
   "cell_type": "markdown",
   "metadata": {},
   "source": [
    "### sklearn.svm.SVC\n",
    "\n",
    "*(C=1.0, kernel='rbf', degree=3, gamma='auto', coef0=0.0, shrinking=True, probability=False,tol=0.001, cache_size=200, class_weight=None, verbose=False, max_iter=-1, decision_function_shape=None,random_state=None)*\n",
    "\n",
    "参数：\n",
    "\n",
    "- C：C-SVC的惩罚参数C?默认值是1.0\n",
    "\n",
    "C越大，相当于惩罚松弛变量，希望松弛变量接近0，即对误分类的惩罚增大，趋向于对训练集全分对的情况，这样对训练集测试时准确率很高，但泛化能力弱。C值小，对误分类的惩罚减小，允许容错，将他们当成噪声点，泛化能力较强。\n",
    "\n",
    "- kernel ：核函数，默认是rbf，可以是‘linear’, ‘poly’, ‘rbf’, ‘sigmoid’, ‘precomputed’ \n",
    "    \n",
    "    – 线性：u'v\n",
    "    \n",
    "    – 多项式：(gamma*u'*v + coef0)^degree\n",
    "\n",
    "    – RBF函数：exp(-gamma|u-v|^2)\n",
    "\n",
    "    – sigmoid：tanh(gamma*u'*v + coef0)\n",
    "\n",
    "\n",
    "- degree ：多项式poly函数的维度，默认是3，选择其他核函数时会被忽略。\n",
    "\n",
    "\n",
    "- gamma ： ‘rbf’,‘poly’ 和‘sigmoid’的核函数参数。默认是’auto’，则会选择1/n_features\n",
    "\n",
    "\n",
    "- coef0 ：核函数的常数项。对于‘poly’和 ‘sigmoid’有用。\n",
    "\n",
    "\n",
    "- probability ：是否采用概率估计？.默认为False\n",
    "\n",
    "\n",
    "- shrinking ：是否采用shrinking heuristic方法，默认为true\n",
    "\n",
    "\n",
    "- tol ：停止训练的误差值大小，默认为1e-3\n",
    "\n",
    "\n",
    "- cache_size ：核函数cache缓存大小，默认为200\n",
    "\n",
    "\n",
    "- class_weight ：类别的权重，字典形式传递。设置第几类的参数C为weight*C(C-SVC中的C)\n",
    "\n",
    "\n",
    "- verbose ：允许冗余输出？\n",
    "\n",
    "\n",
    "- max_iter ：最大迭代次数。-1为无限制。\n",
    "\n",
    "\n",
    "- decision_function_shape ：‘ovo’, ‘ovr’ or None, default=None3\n",
    "\n",
    "\n",
    "- random_state ：数据洗牌时的种子值，int值\n",
    "\n",
    "\n",
    "主要调节的参数有：C、kernel、degree、gamma、coef0。"
   ]
  },
  {
   "cell_type": "markdown",
   "metadata": {},
   "source": [
    "### scikit-learn 实例"
   ]
  },
  {
   "cell_type": "code",
   "execution_count": 27,
   "metadata": {
    "scrolled": true
   },
   "outputs": [
    {
     "data": {
      "text/plain": [
       "SVC()"
      ]
     },
     "execution_count": 27,
     "metadata": {},
     "output_type": "execute_result"
    }
   ],
   "source": [
    "from sklearn.svm import SVC\n",
    "clf = SVC()\n",
    "clf.fit(X_train, Y_train)"
   ]
  },
  {
   "cell_type": "code",
   "execution_count": 28,
   "metadata": {},
   "outputs": [
    {
     "data": {
      "text/plain": [
       "0.9666666666666667"
      ]
     },
     "execution_count": 28,
     "metadata": {},
     "output_type": "execute_result"
    }
   ],
   "source": [
    "clf.score(X_test,Y_test)"
   ]
  },
  {
   "cell_type": "code",
   "execution_count": null,
   "metadata": {},
   "outputs": [],
   "source": []
  }
 ],
 "metadata": {
  "kernelspec": {
   "display_name": "Python 3",
   "language": "python",
   "name": "python3"
  },
  "language_info": {
   "codemirror_mode": {
    "name": "ipython",
    "version": 3
   },
   "file_extension": ".py",
   "mimetype": "text/x-python",
   "name": "python",
   "nbconvert_exporter": "python",
   "pygments_lexer": "ipython3",
   "version": "3.6.8"
  }
 },
 "nbformat": 4,
 "nbformat_minor": 4
}
