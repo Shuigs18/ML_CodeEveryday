{
 "cells": [
  {
   "cell_type": "code",
   "execution_count": 14,
   "metadata": {},
   "outputs": [],
   "source": [
    "# HMM, 有监督学习算法\n",
    "# 预测：维比特算法，动态规划\n",
    "import numpy as np\n",
    "import time\n",
    "\n",
    "def trainParameter(filepath):\n",
    "    # 定义一个查询字典，B代表词语的开头，M代表中间，E代表结尾，S代表单个字的词\n",
    "    statuDict = {'B':0, 'M':1, 'E':2, 'S':3}\n",
    "    # PI参数 初试状态概率向量\n",
    "    PI = np.zeros(4)\n",
    "    # A 状态转移概率矩阵\n",
    "    A = np.zeros((4,4))\n",
    "    # B 观测概率矩阵 每个状态可能出现的字，这里用一个65536的空间来保证对于所有的汉字都能\n",
    "    #找到对应的位置来存储\n",
    "    B = np.zeros((4, 65536))\n",
    "    # 加载文件\n",
    "    f = open(filepath, encoding='utf-8')\n",
    "    \n",
    "    for line in f.readlines():\n",
    "        #假设一行的内容是：line = ‘深圳  有  个  打工者  阅览室\\n’\n",
    "        curLine = line.strip().split()\n",
    "        # curLine = ['深圳','有','个', '打工者', '阅览室']\n",
    "        # 将curline的内容转换成BMES\n",
    "        # 保存一个序列的标签\n",
    "        wordLabel = [] \n",
    "        for i in range(len(curLine)):\n",
    "            if len(curLine[i]) == 1:\n",
    "                label = 'S'\n",
    "            else:\n",
    "                label = 'B' + 'M' * (len(curLine[i]) - 2) + 'E'\n",
    "            # 更新PI\n",
    "            if i == 0: PI[statuDict[label[0]]] += 1\n",
    "            # 更新 B ord(str)返回字符对应的十进制整数\n",
    "            for k in range(len(label)):\n",
    "                B[statuDict[label[k]]][ord(curLine[i][k])] += 1\n",
    "            \n",
    "            wordLabel.extend(label)\n",
    "            # extend()和label的区别，extend('BMES') 得到 ['B','M', 'E', 'S']\n",
    "            #而append('BMES') 得到['BMES'] 这里‘BMES’等同于list，append是将整个list添加到后面\n",
    "        # 等一个序列['B','E','S','M','S','E'] 结束后再更新转移概率矩阵 A\n",
    "        for i in range(1, len(wordLabel)):\n",
    "            A[statuDict[wordLabel[i-1]]][statuDict[wordLabel[i]]] += 1\n",
    "            \n",
    "    # 上述三个参数的数值还是次数，转换为频率\n",
    "    # 转换PI\n",
    "    PI_sum = np.sum(PI)\n",
    "    for i in range(len(PI)):\n",
    "        #如果某元素没有出现过，该位置为0，在后续的计算中这是不被允许的\n",
    "        #比如说某个汉字在训练集中没有出现过，那在后续不同概率相乘中只要有\n",
    "        #一项为0，其他都是0了，此外整条链很长的情况下，太多0-1的概率相乘\n",
    "        #不管怎样最后的结果都会很小，很容易下溢出\n",
    "        #所以在概率上我们习惯将其转换为log对数形式，这在书上是没有讲的\n",
    "        #x大的时候，log也大，x小的时候，log也相应小，我们最后比较的是不同\n",
    "        #概率的大小，所以使用log没有问题\n",
    "\n",
    "        #那么当单向概率为0的时候，log没有定义，因此需要单独判断\n",
    "        #如果该项为0，则手动赋予一个极小值\n",
    "        if PI[i] == 0.: PI[i] = -3.14e+100\n",
    "        else:  PI[i] = np.log(PI[i] / PI_sum)\n",
    "    # 转换A\n",
    "    A_sum = np.sum(A, axis=1) # A_sum array([5,9,10,2])\n",
    "    for i in range(A.shape[0]):\n",
    "        for k in range(A.shape[1]):\n",
    "            if A[i][k] == 0:  A[i][k] = -3.14e+100\n",
    "            else: A[i][k] = np.log(A[i][k] / A_sum[i])\n",
    "    # 转换B\n",
    "    B_sum = np.sum(B, axis=1)\n",
    "    for i in range(B.shape[0]):\n",
    "        for k in range(B.shape[1]):\n",
    "            if B[i][k] == 0: B[i][k] = -3.14e+100\n",
    "            else: B[i][k] = np.log(B[i][k] / B_sum[i])\n",
    "    \n",
    "    return PI, A, B\n",
    "\n",
    "# 加载文章\n",
    "def loadArtical(filepath):\n",
    "    '''\n",
    "    加载文章\n",
    "    返回文章内容：['今天早上天气很好！'， '深圳有个打工者阅览室。']\n",
    "    '''\n",
    "    artical = []\n",
    "    f = open(filepath, encoding='utf-8')\n",
    "    for line in f.readlines():\n",
    "        line = line.strip()\n",
    "        artical.append(line)\n",
    "    return artical\n",
    "\n",
    "#文章分词函数\n",
    "# 算法，维特比算法\n",
    "def tokenize(artical, PI, A, B):\n",
    "    '''\n",
    "    输入：文章内容：['今天早上天气很好！'， '深圳有个打工者阅览室。'], 参数：PI(array)， A(array)， B(array)\n",
    "    输出：分词结果：['今天｜早上｜天气｜很｜好｜！'， '深圳｜有｜个｜打工者｜阅览室｜。']\n",
    "    '''\n",
    "    tokenization = []\n",
    "    for line in artical:\n",
    "        delta = [[0.] * A.shape[0] for i in range(len(line))]\n",
    "        # 初始化delta\n",
    "        for k in range(A.shape[0]):\n",
    "            # 因为概率都取了log，所以这里是加而不是书上的相乘\n",
    "            delta[0][k] = PI[k] + B[k][ord(line[0])]\n",
    "        # 初始化Psi, 维度 T*A.shape[0]\n",
    "        Psi = [[0.] * A.shape[0] for i in range(len(line))]\n",
    "        # 进行递推\n",
    "        for t in range(1, len(line)):\n",
    "            for i in range(A.shape[0]):\n",
    "                # 临时存放四个状态的概率值\n",
    "                tempDelta = [0.] * A.shape[0] \n",
    "                for j in range(A.shape[0]):\n",
    "                    tempDelta[j] = delta[t-1][j] + A[j][i]\n",
    "                # 记录最大的值\n",
    "                maxDelta = max(tempDelta)\n",
    "                # 记录t-1最大值对应的索引\n",
    "                maxDeltaIndex = tempDelta.index(maxDelta)\n",
    "                delta[t][i] = maxDelta + B[i][ord(line[t])]\n",
    "                Psi[t][i] = maxDeltaIndex\n",
    "        # 创建一个序列表用来生成状态链\n",
    "        sequence = []\n",
    "        sequence_prob = max(delta[len(line)-1])\n",
    "        Index_opt = delta[len(line)-1].index(sequence_prob)\n",
    "        sequence.append(Index_opt)\n",
    "        for t in range(len(line)-1, 0, -1):\n",
    "            Index_opt = Psi[t][Index_opt]\n",
    "            sequence.append(Index_opt)\n",
    "        sequence.reverse()\n",
    "        CurLine = ''\n",
    "        for i in range(len(line)):\n",
    "            CurLine += line[i]\n",
    "            # 遇到E：2或者S：3 添加｜，但是改行的结尾出不需要加\n",
    "            if (sequence[i] == 2 or sequence[i] == 3) and i != len(line) - 1:\n",
    "                CurLine += '|'\n",
    "        tokenization.append(CurLine)\n",
    "    \n",
    "    return tokenization"
   ]
  },
  {
   "cell_type": "code",
   "execution_count": 15,
   "metadata": {},
   "outputs": [],
   "source": [
    "PI, A, B = trainParameter('HMMTrainSet.txt')"
   ]
  },
  {
   "cell_type": "code",
   "execution_count": 16,
   "metadata": {},
   "outputs": [
    {
     "data": {
      "text/plain": [
       "array([[-3.14000000e+100, -1.91884919e+000, -1.58732900e-001,\n",
       "        -3.14000000e+100],\n",
       "       [-3.14000000e+100, -1.06226695e+000, -4.24145455e-001,\n",
       "        -3.14000000e+100],\n",
       "       [-7.22823902e-001, -3.14000000e+100, -3.14000000e+100,\n",
       "        -6.64325843e-001],\n",
       "       [-5.60300594e-001, -3.14000000e+100, -3.14000000e+100,\n",
       "        -8.46385515e-001]])"
      ]
     },
     "execution_count": 16,
     "metadata": {},
     "output_type": "execute_result"
    }
   ],
   "source": [
    "A"
   ]
  },
  {
   "cell_type": "code",
   "execution_count": 17,
   "metadata": {},
   "outputs": [],
   "source": [
    "artical = loadArtical('testArtical.txt')"
   ]
  },
  {
   "cell_type": "code",
   "execution_count": 18,
   "metadata": {},
   "outputs": [],
   "source": [
    "tokenization = tokenize(artical, PI, A, B)"
   ]
  },
  {
   "cell_type": "code",
   "execution_count": 19,
   "metadata": {},
   "outputs": [
    {
     "name": "stdout",
     "output_type": "stream",
     "text": [
      "深圳|有个|打|工者|阅览室\n",
      "去年|１２月|，|我|在|广东|深圳|市出|差|，|听|说|南山区|工商|分局|为|打|工者|建了|个|免费|图书|阅览室|，|这件|新|鲜事|引起|了|我|的|兴趣|。\n",
      "１２月|１８日|下午|，|我来|到|了|这个|阅览室|。|阅览室|位|于|桂庙|，|临南油|大道|，|是|一间|轻|体房|，|面积|约|有４０平|方米|，|内|部装|修得|整洁|干净|，|四|周|的|书架|上|摆满|了|书|，|并|按|政治|、|哲学|、|法律|法规|、|文化|教育|、|经济|、|科技|、|艺术|、|中国|文学|、|外国|文学|等|分类|，|屋|中央|有|两排|书架|，|上面|也|摆满|了|图书|和|杂志|。|一些|打工|青年|或站|或|蹲|，|认真|地阅|读|，|不时|有|人到|借阅|台前|办理|借书|或|还书|手续|。|南山区|在|深圳|市西边|，|地处|城乡|结合部|，|外来|打|工者|较|多|。|去年|２月|，|南山区|工商|分局|局长|王|安全|发现|分局|对面|的|公园|里|常有|不少|打|工者|业余|时间|闲逛|，|有时|还|滋扰|生事|。|为|了|给|这些|打|工者|提供|一个|充实|自己|的|场|所|，|他|提议|由|全分局|工作|人员|捐款|，|兴建|一个|免费|阅览室|。|领导|带头|，|群众|响应|，|大家|捐款|１．４万|元|，|购买|了|近|千册|图书|。|３月|６日|，|建在|南头|繁华|的|南|新路|和|金鸡路|交叉口|的|阅览室|开放|了|。|从|此|，|这里|每天|都|吸引|了|众多|借书|、|看书|的|人们|，|其中|不仅|有|打|工者|，|还|有|机关|干部|、|公司|职员|和|个|体户|。|到|了|夏天|，|由于|阅览室|所|在|地|被|工程|征用|，|南山区|工商|分局|便|把|阅览室|迁到|了|桂庙|。|阅览室|的|管理|人员|是|两|名|青年|，|男|的|叫|张|攀|，|女|的|叫|赵阳|。|张|攀|自己|就|是|湖北来|的|打|工者|，|听|说|南山区|工商|分局|办|免费|阅览室|，|便|主动|应|聘来|服务|。|阅览室|每天|从|早９时|开到|晚１０时|，|夜里|张|攀|就|住|在|这里|。|他谈|起|阅览室|里|的|图书|，|翻着|一|本本|的|借阅|名册|，|如数|家珍|，|对|图书|和|工作|的|挚爱|之|情溢|于|言表|。|我|在|这里|碰到|南山区|华英|大厦|一位|叫|聂|煜|的|女|青年|，|她|说|她|也|是|个|打|工者|，|由于|春节|探家|回来|后|就|要|去市|内|工作|，|很|留恋|这里|的|这个|免费|阅览室|，|想|抓紧|时间|多|看些|书|，|她|还|把|自己|买|的|几本|杂志|捐给|了|阅览室|。|在|阅览室|的|捐书|登|记簿|上|，|记录|着|这样|的|数字|：|工商|系统|内部|捐书３５５０册|，|社会|各界|捐书２５０册|。|我|在|阅览室|读到|了|这样|几|封感|谢信|：|深圳|瑞兴|光学厂|的|王|志明|写道|：|“|我们|这些|年|轻人|远离|了|家乡|，|来|到|繁华紧|张|的|都|市|打工|，|辛劳|之|余|，|能|有|机会|看书|读报|，|感到|特别|充实|。|”|深圳|文光|灯|泡厂|的|江虹|说|：|“|南山区|工商|分局|的|干部|职工|捐款|、|捐书|，|给|我们|打|工者|提供|良好|的|学习|环境|，|鼓励|我们|求知|上进|，|真是|办|了|一件|大好|事|，|他们|是|我们|打|工者|的|知音|。|”|（|本报|记者|罗华|）\n"
     ]
    }
   ],
   "source": [
    "for i in tokenization:\n",
    "    print(i)"
   ]
  },
  {
   "cell_type": "code",
   "execution_count": null,
   "metadata": {},
   "outputs": [],
   "source": []
  }
 ],
 "metadata": {
  "kernelspec": {
   "display_name": "Python 3",
   "language": "python",
   "name": "python3"
  },
  "language_info": {
   "codemirror_mode": {
    "name": "ipython",
    "version": 3
   },
   "file_extension": ".py",
   "mimetype": "text/x-python",
   "name": "python",
   "nbconvert_exporter": "python",
   "pygments_lexer": "ipython3",
   "version": "3.6.8"
  }
 },
 "nbformat": 4,
 "nbformat_minor": 4
}
