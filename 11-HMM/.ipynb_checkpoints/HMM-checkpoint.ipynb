{
 "cells": [
  {
   "cell_type": "code",
   "execution_count": null,
   "metadata": {},
   "outputs": [],
   "source": [
    "# HMM, 有监督学习算法\n",
    "# 预测：维比特算法，动态规划\n",
    "import numpy as np\n",
    "import time\n",
    "\n",
    "def trainParameter(filepath):\n",
    "    # 定义一个查询字典，B代表词语的开头，M代表中间，E代表结尾，S代表单个字的词\n",
    "    statuDict = {'B':0, 'M':1, 'E':2, 'S':4}\n",
    "    # PI参数 初试状态概率向量\n",
    "    PI = np.zeros(4)\n",
    "    # A 状态转移概率矩阵\n",
    "    A = np.zeros((4,4))\n",
    "    # B 观测概率矩阵 每个状态可能出现的字，这里用一个65536的空间来保证对于所有的汉字都能\n",
    "    #找到对应的位置来存储\n",
    "    B = np.zeros((4, 65536))\n",
    "    # 加载文件\n",
    "    f = open(filepath, encoding='utf-8')\n",
    "    \n",
    "    for line in f.readlines():\n",
    "        #假设一行的内容是：line = ‘深圳  有  个  打工者  阅览室\\n’\n",
    "        curLine = line.strip().split()\n",
    "        # curLine = ['深圳','有','个', '打工者', '阅览室']\n",
    "        # 将curline的内容转换成BMES\n",
    "        # 保存一个序列的标签\n",
    "        wordLabel = [] \n",
    "        for i in range(len(curLine)):\n",
    "            if len(curline[i]) == 1:\n",
    "                label = 'S'\n",
    "            else:\n",
    "                label = 'B' + 'M' * (len(curLine[i]) - 2) + 'E'\n",
    "            # 更新PI\n",
    "            if i == 0: PI[statuDict[label[0]]] += 1\n",
    "            # 更新 B ord(str)返回字符对应的十进制整数\n",
    "            for k in range(len(label)):\n",
    "                B[statuDict[label[k]]][ord(curLine[i][k])] += 1\n",
    "            \n",
    "            wordLabel.extend(label)\n",
    "            # extend()和label的区别，extend('BMES') 得到 ['B','M', 'E', 'S']\n",
    "            #而append('BMES') 得到['BMES'] 这里‘BMES’等同于list，append是将整个list添加到后面\n",
    "        # 等一个序列['B','E','S','M','S','E'] 结束后再更新转移概率矩阵 A\n",
    "        for i in range(len(wordLabel)-1):\n",
    "            A[statuDict[wordLabel[i]]][statuDict[wordLabel[i+1]] += 1\n",
    "    # 上述三个参数的数值还是次数，转换为频率\n",
    "    PI_sum = np.sum(PI)\n",
    "    for i in range(len(PI)):\n",
    "                            \n",
    "                                       "
   ]
  }
 ],
 "metadata": {
  "kernelspec": {
   "display_name": "Python 3",
   "language": "python",
   "name": "python3"
  },
  "language_info": {
   "codemirror_mode": {
    "name": "ipython",
    "version": 3
   },
   "file_extension": ".py",
   "mimetype": "text/x-python",
   "name": "python",
   "nbconvert_exporter": "python",
   "pygments_lexer": "ipython3",
   "version": "3.6.8"
  }
 },
 "nbformat": 4,
 "nbformat_minor": 4
}
