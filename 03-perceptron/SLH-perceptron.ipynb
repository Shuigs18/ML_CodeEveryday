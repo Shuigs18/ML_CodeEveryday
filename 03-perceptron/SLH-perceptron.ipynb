{
 "cells": [
  {
   "cell_type": "code",
   "execution_count": 1,
   "metadata": {},
   "outputs": [
    {
     "data": {
      "text/plain": [
       "array([-1, -1, -1, -1, -1, -1, -1, -1, -1, -1, -1, -1, -1, -1, -1, -1, -1,\n",
       "       -1, -1, -1, -1, -1, -1, -1, -1, -1, -1, -1, -1, -1, -1, -1, -1, -1,\n",
       "       -1, -1, -1, -1, -1, -1, -1, -1, -1, -1, -1, -1, -1, -1, -1, -1,  1,\n",
       "        1,  1,  1,  1,  1,  1,  1,  1,  1,  1,  1,  1,  1,  1,  1,  1,  1,\n",
       "        1,  1,  1,  1,  1,  1,  1,  1,  1,  1,  1,  1,  1,  1,  1,  1,  1,\n",
       "        1,  1,  1,  1,  1,  1,  1,  1,  1,  1,  1,  1,  1,  1,  1])"
      ]
     },
     "execution_count": 1,
     "metadata": {},
     "output_type": "execute_result"
    }
   ],
   "source": [
    "import numpy as np\n",
    "import pandas as pd\n",
    "np.random.seed(0)\n",
    "from sklearn import datasets\n",
    "iris = datasets.load_iris()\n",
    "X = iris.data[:100, :2]\n",
    "Y = iris.target[:100]\n",
    "Y[Y == 0] = -1\n",
    "Y"
   ]
  },
  {
   "cell_type": "code",
   "execution_count": 2,
   "metadata": {},
   "outputs": [],
   "source": [
    "# 数据标准化\n",
    "def _normalize(X, train_set = True, specified_column = None, X_mean = None, X_std = None):\n",
    "    if specified_column == None:\n",
    "        specified_column = np.arange(len(X[0]))\n",
    "    if train_set:\n",
    "        X_mean = np.mean(X[:, specified_column], axis = 0)\n",
    "        X_std = np.std(X[:, specified_column], axis = 0)\n",
    "    X[:, specified_column] = (X[:, specified_column] - X_mean) / (X_std + 1e-8)\n",
    "    return X, X_mean, X_std"
   ]
  },
  {
   "cell_type": "code",
   "execution_count": 3,
   "metadata": {},
   "outputs": [],
   "source": [
    "X, X_mean, X_std = _normalize(X, train_set = True)"
   ]
  },
  {
   "cell_type": "code",
   "execution_count": 4,
   "metadata": {},
   "outputs": [],
   "source": [
    "## 注意label的标枪必须是 -1 和 1 要不然会无限循环下去\n",
    "## 这样写有个错误，如果数据集不是线性可分的，将一直循环下去, iris数据集是线性可分的\n",
    "def _train(X, Y, learning_rate = 0.2):\n",
    "    data_dim = len(X[0])\n",
    "    w = np.zeros((1, data_dim))\n",
    "    b = 0\n",
    "    not_finish = True\n",
    "    while not_finish:\n",
    "        wrong_count = 0\n",
    "        for idx in range(len(X)):\n",
    "            Y_pred = np.sign(np.dot(w, X[idx]) + b)\n",
    "            if Y_pred * Y[idx] <= 0: \n",
    "                w += learning_rate * Y[idx] * X[idx]\n",
    "                b += learning_rate * Y[idx]\n",
    "                wrong_count += 1\n",
    "        if wrong_count == 0:\n",
    "            not_finish = False\n",
    "    return 'Perceptron is done!'"
   ]
  },
  {
   "cell_type": "code",
   "execution_count": 5,
   "metadata": {},
   "outputs": [
    {
     "data": {
      "text/plain": [
       "'Perceptron is done!'"
      ]
     },
     "execution_count": 5,
     "metadata": {},
     "output_type": "execute_result"
    }
   ],
   "source": [
    "_train(X,Y,0.1)"
   ]
  },
  {
   "cell_type": "code",
   "execution_count": null,
   "metadata": {},
   "outputs": [],
   "source": []
  }
 ],
 "metadata": {
  "kernelspec": {
   "display_name": "Python 3",
   "language": "python",
   "name": "python3"
  },
  "language_info": {
   "codemirror_mode": {
    "name": "ipython",
    "version": 3
   },
   "file_extension": ".py",
   "mimetype": "text/x-python",
   "name": "python",
   "nbconvert_exporter": "python",
   "pygments_lexer": "ipython3",
   "version": "3.6.8"
  }
 },
 "nbformat": 4,
 "nbformat_minor": 4
}
