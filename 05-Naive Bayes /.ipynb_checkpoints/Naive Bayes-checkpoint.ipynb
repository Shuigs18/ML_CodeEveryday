{
 "cells": [
  {
   "cell_type": "code",
   "execution_count": 1,
   "metadata": {},
   "outputs": [],
   "source": [
    "import numpy as np\n",
    "import pandas as pd\n",
    "import matplotlib.pyplot as plt\n",
    "%matplotlib inline\n",
    "\n",
    "from sklearn.datasets import load_iris\n",
    "from sklearn.model_selection import train_test_split\n",
    "\n",
    "from collections import Counter\n",
    "import math"
   ]
  },
  {
   "cell_type": "code",
   "execution_count": 2,
   "metadata": {},
   "outputs": [
    {
     "data": {
      "text/plain": [
       "array([0., 0., 2., 1., 0., 2., 2., 0., 0., 0., 0., 0., 1., 0., 2., 1., 0.,\n",
       "       1., 1., 1., 2., 0., 2., 0., 1., 1., 0., 1., 1., 0., 2., 1., 0., 2.,\n",
       "       2., 2., 0., 2., 0., 1., 2., 0., 2., 1., 2., 1., 2., 2., 2., 2., 2.,\n",
       "       0., 1., 2., 0., 1., 0., 1., 2., 2., 0., 1., 0., 2., 1., 0., 1., 0.,\n",
       "       0., 2., 1., 2., 2., 0., 2., 2., 1., 1., 2., 1., 1., 1., 1., 0., 0.,\n",
       "       2., 1., 2., 2., 1., 2., 1., 2., 1., 0., 2., 0., 2., 1., 2., 1., 0.,\n",
       "       1., 2., 1.])"
      ]
     },
     "execution_count": 2,
     "metadata": {},
     "output_type": "execute_result"
    }
   ],
   "source": [
    "# import data\n",
    "iris = load_iris()\n",
    "df = pd.DataFrame(iris.data, columns=iris.feature_names)\n",
    "df['labels'] = iris.target\n",
    "df.columns = [\n",
    "    'sepal length', 'sepal width', 'petal length', 'petal width', 'label'\n",
    "]\n",
    "data = np.array(df)\n",
    "X, Y = data[:, :-1], data[:, -1]\n",
    "\n",
    "def _shuffle(X, Y):\n",
    "    randomize = np.arange(len(X))\n",
    "    np.random.shuffle(randomize)\n",
    "    return X[randomize], Y[randomize]\n",
    "\n",
    "X, Y = _shuffle(X,Y)\n",
    "\n",
    "X_train, X_test, Y_train, Y_test = train_test_split(X,Y, test_size = 0.3)\n",
    "Y_train"
   ]
  },
  {
   "cell_type": "code",
   "execution_count": 28,
   "metadata": {},
   "outputs": [],
   "source": [
    "class NaiveBayes:\n",
    "    def __init__(self):\n",
    "        self.model = None\n",
    "        self.Y_mean = None\n",
    "        \n",
    "    \n",
    "    # 计算均值\n",
    "    @staticmethod   # 这个装饰器的作用就是，可以不用先实例化再调用函数，直接NaiveBayes.mean(X)\n",
    "    def mean(X):\n",
    "        return sum(X) / float(len(X))\n",
    "    \n",
    "    # 计算标准差\n",
    "    def std(self, X):\n",
    "        avg = self.mean(X)\n",
    "        return math.sqrt(sum([pow(x - avg, 2) for x in X]) / float(len(X)))\n",
    "    \n",
    "    # 概率密度函数\n",
    "    def gaussian_probability(self, x, mean, std):\n",
    "        exp = math.exp(-(math.pow(x - mean, 2) / (2 * math.pow(std, 2))))\n",
    "        return (1 / (math.sqrt(2 * math.pi)) * std) * exp\n",
    "    \n",
    "    # 计算X_train的mean 和std\n",
    "    def summarize(self, X_train): #  *X_train 星号作用是解包然后逐个传入 \n",
    "        summaries = [(self.mean(i), self.std(i)) for i in zip(*X_train)] # 所以zip(*X_train) == zip([1,2,3],[2,3,4],...)\n",
    "        return summaries\n",
    "    \n",
    "    def fit(self, X, Y):\n",
    "        labels = list(set(Y))\n",
    "        data = {label: [] for label in labels} # 初始化\n",
    "        self.Y_mean = np.zeros(len(labels))\n",
    "        for x, label in zip(X, Y):\n",
    "            data[label].append(x)\n",
    "            self.Y_mean[int(label)] += 1.\n",
    "        self.Y_mean /= len(Y)\n",
    "        # 计算P(x_i|y_k) for i in range...\n",
    "        self.model = {\n",
    "            label:self.summarize(value)\n",
    "            for label, value in data.items()\n",
    "        }\n",
    "        return 'gaussianNB train done'\n",
    "    \n",
    "    def calculate_probabilities(self, input_data):\n",
    "        # summaries: {0: [(mean1,std1),(mean2,std2),(mean3,std3),(mean4,std4)], 1:...}\n",
    "        probabilities = {}\n",
    "        for label, value in self.model.items(): # value --> summaries\n",
    "            probabilities[label] = self.Y_mean[int(label)] # P(C_i)\n",
    "            for i in range(len(value)):\n",
    "                mean, std = value[i]\n",
    "                probabilities[label] *= self.gaussian_probability(input_data[i], mean, std)\n",
    "                # 计算P(x|c_i) * P(C_i)的概率\n",
    "        return probabilities\n",
    "    \n",
    "    def predict(self, X_test): \n",
    "        # 这里X_test为单个实例\n",
    "        result = []\n",
    "        for i in range(len(X_test)):\n",
    "            label = sorted(self.calculate_probabilities(X_test[i]).items(), key=lambda x:x[-1])[-1][0]  # sorted 默认从小到大 返回一个list\n",
    "            # 如[(1, 75), (0, 85), (2, 95)]\n",
    "            result.append(label)\n",
    "        \n",
    "        return result\n",
    "    \n",
    "    def score(self, X_test, Y_test):\n",
    "        right = 0\n",
    "        predictions = self.predict(X_test)\n",
    "        for i in range(len(Y_test)):\n",
    "            if predictions[i] == Y_test[i]:\n",
    "                right += 1\n",
    "        return right / float(len(Y_test))\n",
    "                \n",
    "                "
   ]
  },
  {
   "cell_type": "code",
   "execution_count": 29,
   "metadata": {},
   "outputs": [],
   "source": [
    "model = NaiveBayes()"
   ]
  },
  {
   "cell_type": "code",
   "execution_count": 30,
   "metadata": {},
   "outputs": [
    {
     "data": {
      "text/plain": [
       "'gaussianNB train done'"
      ]
     },
     "execution_count": 30,
     "metadata": {},
     "output_type": "execute_result"
    }
   ],
   "source": [
    "model.fit(X_train, Y_train)"
   ]
  },
  {
   "cell_type": "code",
   "execution_count": 31,
   "metadata": {},
   "outputs": [],
   "source": [
    "result1 = model.predict(X_test)"
   ]
  },
  {
   "cell_type": "code",
   "execution_count": 32,
   "metadata": {},
   "outputs": [
    {
     "data": {
      "text/plain": [
       "0.9555555555555556"
      ]
     },
     "execution_count": 32,
     "metadata": {},
     "output_type": "execute_result"
    }
   ],
   "source": [
    "model.score(X_test, Y_test)"
   ]
  },
  {
   "cell_type": "markdown",
   "metadata": {},
   "source": [
    "## scikit-learn 实例"
   ]
  },
  {
   "cell_type": "code",
   "execution_count": 33,
   "metadata": {},
   "outputs": [],
   "source": [
    "from sklearn.naive_bayes import GaussianNB"
   ]
  },
  {
   "cell_type": "code",
   "execution_count": 34,
   "metadata": {},
   "outputs": [
    {
     "data": {
      "text/plain": [
       "GaussianNB()"
      ]
     },
     "execution_count": 34,
     "metadata": {},
     "output_type": "execute_result"
    }
   ],
   "source": [
    "clf = GaussianNB()\n",
    "#X = np.array([[-1, -1], [-2, -1], [-3, -2], [1, 1], [2, 1], [3, 2]])\n",
    "#Y = np.array([1, 1, 1, 2, 2, 2])\n",
    "clf.fit(X_train, Y_train)"
   ]
  },
  {
   "cell_type": "code",
   "execution_count": 35,
   "metadata": {},
   "outputs": [
    {
     "data": {
      "text/plain": [
       "0.9777777777777777"
      ]
     },
     "execution_count": 35,
     "metadata": {},
     "output_type": "execute_result"
    }
   ],
   "source": [
    "clf.score(X_test, Y_test)"
   ]
  },
  {
   "cell_type": "code",
   "execution_count": 36,
   "metadata": {},
   "outputs": [],
   "source": [
    "result2 = clf.predict(X_test)"
   ]
  },
  {
   "cell_type": "code",
   "execution_count": 37,
   "metadata": {},
   "outputs": [
    {
     "data": {
      "text/plain": [
       "1"
      ]
     },
     "execution_count": 37,
     "metadata": {},
     "output_type": "execute_result"
    }
   ],
   "source": [
    "count = 0\n",
    "for i in range(len(result1)):\n",
    "    if result1[i] != result2[i]:\n",
    "        count += 1\n",
    "count"
   ]
  },
  {
   "cell_type": "code",
   "execution_count": null,
   "metadata": {},
   "outputs": [],
   "source": []
  }
 ],
 "metadata": {
  "kernelspec": {
   "display_name": "Python 3",
   "language": "python",
   "name": "python3"
  },
  "language_info": {
   "codemirror_mode": {
    "name": "ipython",
    "version": 3
   },
   "file_extension": ".py",
   "mimetype": "text/x-python",
   "name": "python",
   "nbconvert_exporter": "python",
   "pygments_lexer": "ipython3",
   "version": "3.6.8"
  }
 },
 "nbformat": 4,
 "nbformat_minor": 4
}
