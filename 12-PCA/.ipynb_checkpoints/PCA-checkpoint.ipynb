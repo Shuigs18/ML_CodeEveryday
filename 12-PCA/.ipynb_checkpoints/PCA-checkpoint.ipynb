{
 "cells": [
  {
   "cell_type": "code",
   "execution_count": 1,
   "metadata": {},
   "outputs": [],
   "source": [
    "# 加载数据函数\n",
    "# 数据标准化\n",
    "# 计算协方差矩阵的特征值和单位特征向量\n",
    "# PCA处理主函数\n",
    "import numpy as np\n",
    "import pandas as pd\n",
    "import time"
   ]
  },
  {
   "cell_type": "code",
   "execution_count": 1,
   "metadata": {},
   "outputs": [],
   "source": [
    "def load_data(filepath):\n",
    "    '''\n",
    "    输入：文件路径, csv格式，输入数据包含特征标签\n",
    "    输出：data（array）\n",
    "    '''\n",
    "    with open(filepath) as f:\n",
    "        next(f)\n",
    "        data = np.array([line.strip('\\n').split(',') for line in f], dtype=float)\n",
    "    return data\n",
    "\n",
    "def normalize(X):\n",
    "    X_mean = np.mean(X, axis=0)\n",
    "    X_std = np.std(X, axis=0)\n",
    "    for i in range(len(X)):\n",
    "        X[i] = (X[i] - X_mean) / (X_std + 3.14e+12)\n",
    "    \n",
    "    return X\n",
    "    \n",
    "    \n",
    "def cal_SVD(X):\n",
    "    '''\n",
    "    输入：样本数据array\n",
    "    输出：协方差矩阵的特征值，特征向量\n",
    "    '''\n",
    "    new_X = X.T / np.sqrt(len(X) - 1)\n",
    "    eigenvalue, v = np.linalg.eig(np.matmul(new_X.T, new_X)) # 计算协方差矩阵的特征值和特征向量，注意这里的特征向量并不一定是单位的，所以还需要单位化\n",
    "    temp =  {} # 临时的字典用来保存特征值和特征向量对，其中key为特征值，value为特征向量\n",
    "    for i in range(len(eigenvalue)):\n",
    "        temp[eigenvalue[i]] = v[i]\n",
    "    # 对特征向量进行从大到小排序\n",
    "    eigenvalue = sorted(temp, reverse=True) # 将字典传入sorted函数，输出是关于字典key的列表，reverse=True表示降序排列\n",
    "    V = np.empty(len(eigenvalue))\n",
    "    # 特征向量单位化\n",
    "    for i in eigenvalue:\n",
    "        d = 0\n",
    "        for j in range(len(temp[i])):\n",
    "            d += temp[i][j] ** 2\n",
    "        V.append(temp[i] / np.sqrt(d))\n",
    "    return eigenvalue, V\n",
    "\n",
    "def PAC(X, k):\n",
    "    '''\n",
    "    输入：X，k降维后的维度\n",
    "    输出：降维后的数据\n",
    "    '''\n",
    "    X = normalize(X)\n",
    "    eigenvalue, V = cal_SVD(X)\n",
    "    Y = np.matmul(V[:, 0:k].T, X)\n",
    "    \n",
    "    return Y"
   ]
  },
  {
   "cell_type": "code",
   "execution_count": null,
   "metadata": {},
   "outputs": [],
   "source": []
  }
 ],
 "metadata": {
  "kernelspec": {
   "display_name": "Python 3",
   "language": "python",
   "name": "python3"
  },
  "language_info": {
   "codemirror_mode": {
    "name": "ipython",
    "version": 3
   },
   "file_extension": ".py",
   "mimetype": "text/x-python",
   "name": "python",
   "nbconvert_exporter": "python",
   "pygments_lexer": "ipython3",
   "version": "3.6.8"
  }
 },
 "nbformat": 4,
 "nbformat_minor": 4
}
